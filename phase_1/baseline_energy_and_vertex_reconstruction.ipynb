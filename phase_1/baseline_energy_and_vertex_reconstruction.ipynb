{
 "cells": [
  {
   "cell_type": "code",
   "execution_count": 1,
   "metadata": {},
   "outputs": [
    {
     "name": "stderr",
     "output_type": "stream",
     "text": [
      "/opt/conda/anaconda3/lib/python3.6/importlib/_bootstrap.py:205: RuntimeWarning: numpy.dtype size changed, may indicate binary incompatibility. Expected 96, got 88\n",
      "  return f(*args, **kwds)\n",
      "/opt/conda/anaconda3/lib/python3.6/importlib/_bootstrap.py:205: RuntimeWarning: numpy.dtype size changed, may indicate binary incompatibility. Expected 96, got 88\n",
      "  return f(*args, **kwds)\n"
     ]
    }
   ],
   "source": [
    "import numpy as np\n",
    "import pandas as pd\n",
    "from mpl_toolkits.mplot3d import Axes3D\n",
    "import matplotlib.pyplot as plt\n",
    "import tables\n",
    "from random import shuffle\n",
    "from IPython.display import clear_output\n",
    "from sklearn import metrics\n",
    "from tqdm import tqdm\n",
    "import time\n",
    "import seaborn as sns\n",
    "%matplotlib inline"
   ]
  },
  {
   "cell_type": "code",
   "execution_count": 2,
   "metadata": {
    "collapsed": true
   },
   "outputs": [],
   "source": [
    "import os\n",
    "USE_GPU = True\n",
    "os.environ['CUDA_VISIBLE_DEVICES'] = '3' if USE_GPU else ''\n",
    "EPS = 1e-15"
   ]
  },
  {
   "cell_type": "code",
   "execution_count": 3,
   "metadata": {
    "collapsed": true
   },
   "outputs": [],
   "source": [
    "#lpmt_hits = pd.read_hdf('../data/lpmt_hits.h5', mode='r') \n",
    "#spmt_hits = pd.read_hdf('../data/spmt_hits.h5', mode='r')\n",
    "#lpmt_pos = pd.read_csv('data/lpmt_pos.csv') \n",
    "#spmt_pos = pd.read_csv('data/spmt_pos.csv') \n",
    "#true_info = pd.read_csv('data/true_info.csv') \n",
    "train = pd.read_hdf('../data/phase1/train_data_ph1.h5', mode='r') \n",
    "validation = pd.read_hdf('../data/phase1/validation_data_ph1.h5', mode='r') \n",
    "test = pd.read_hdf('../data/phase1/test_data_ph1.h5', mode='r') "
   ]
  },
  {
   "cell_type": "code",
   "execution_count": 67,
   "metadata": {
    "collapsed": true
   },
   "outputs": [],
   "source": [
    "true_info = pd.read_hdf('../data/phase1/true_data_ph1.h5', mode='r') "
   ]
  },
  {
   "cell_type": "code",
   "execution_count": 4,
   "metadata": {},
   "outputs": [
    {
     "name": "stdout",
     "output_type": "stream",
     "text": [
      "7640375296\n"
     ]
    }
   ],
   "source": [
    "import os\n",
    "import psutil\n",
    "process = psutil.Process(os.getpid())\n",
    "print(process.memory_info().rss)"
   ]
  },
  {
   "cell_type": "code",
   "execution_count": 5,
   "metadata": {},
   "outputs": [
    {
     "data": {
      "text/html": [
       "<div>\n",
       "<style>\n",
       "    .dataframe thead tr:only-child th {\n",
       "        text-align: right;\n",
       "    }\n",
       "\n",
       "    .dataframe thead th {\n",
       "        text-align: left;\n",
       "    }\n",
       "\n",
       "    .dataframe tbody tr th {\n",
       "        vertical-align: top;\n",
       "    }\n",
       "</style>\n",
       "<table border=\"1\" class=\"dataframe\">\n",
       "  <thead>\n",
       "    <tr style=\"text-align: right;\">\n",
       "      <th></th>\n",
       "      <th>event</th>\n",
       "      <th>hitTime</th>\n",
       "      <th>pmtID</th>\n",
       "      <th>pmt_x</th>\n",
       "      <th>pmt_y</th>\n",
       "      <th>pmt_z</th>\n",
       "      <th>isLarge</th>\n",
       "      <th>E</th>\n",
       "      <th>R</th>\n",
       "      <th>x</th>\n",
       "      <th>y</th>\n",
       "      <th>z</th>\n",
       "    </tr>\n",
       "  </thead>\n",
       "  <tbody>\n",
       "    <tr>\n",
       "      <th>0</th>\n",
       "      <td>0</td>\n",
       "      <td>24.005239</td>\n",
       "      <td>8753</td>\n",
       "      <td>11456.047</td>\n",
       "      <td>15404.693</td>\n",
       "      <td>307.27652</td>\n",
       "      <td>True</td>\n",
       "      <td>4.747791</td>\n",
       "      <td>14610.378</td>\n",
       "      <td>8290.779</td>\n",
       "      <td>11995.618</td>\n",
       "      <td>911.74286</td>\n",
       "    </tr>\n",
       "    <tr>\n",
       "      <th>1</th>\n",
       "      <td>0</td>\n",
       "      <td>24.081249</td>\n",
       "      <td>7872</td>\n",
       "      <td>10957.978</td>\n",
       "      <td>15623.919</td>\n",
       "      <td>2110.89580</td>\n",
       "      <td>True</td>\n",
       "      <td>4.747791</td>\n",
       "      <td>14610.378</td>\n",
       "      <td>8290.779</td>\n",
       "      <td>11995.618</td>\n",
       "      <td>911.74286</td>\n",
       "    </tr>\n",
       "    <tr>\n",
       "      <th>2</th>\n",
       "      <td>0</td>\n",
       "      <td>24.498110</td>\n",
       "      <td>8531</td>\n",
       "      <td>9898.779</td>\n",
       "      <td>16434.060</td>\n",
       "      <td>758.81110</td>\n",
       "      <td>True</td>\n",
       "      <td>4.747791</td>\n",
       "      <td>14610.378</td>\n",
       "      <td>8290.779</td>\n",
       "      <td>11995.618</td>\n",
       "      <td>911.74286</td>\n",
       "    </tr>\n",
       "    <tr>\n",
       "      <th>3</th>\n",
       "      <td>0</td>\n",
       "      <td>24.558104</td>\n",
       "      <td>8078</td>\n",
       "      <td>10321.058</td>\n",
       "      <td>16104.590</td>\n",
       "      <td>1660.70450</td>\n",
       "      <td>True</td>\n",
       "      <td>4.747791</td>\n",
       "      <td>14610.378</td>\n",
       "      <td>8290.779</td>\n",
       "      <td>11995.618</td>\n",
       "      <td>911.74286</td>\n",
       "    </tr>\n",
       "    <tr>\n",
       "      <th>4</th>\n",
       "      <td>0</td>\n",
       "      <td>24.561638</td>\n",
       "      <td>8301</td>\n",
       "      <td>11434.742</td>\n",
       "      <td>15376.045</td>\n",
       "      <td>1209.92570</td>\n",
       "      <td>True</td>\n",
       "      <td>4.747791</td>\n",
       "      <td>14610.378</td>\n",
       "      <td>8290.779</td>\n",
       "      <td>11995.618</td>\n",
       "      <td>911.74286</td>\n",
       "    </tr>\n",
       "  </tbody>\n",
       "</table>\n",
       "</div>"
      ],
      "text/plain": [
       "   event    hitTime  pmtID      pmt_x      pmt_y       pmt_z  isLarge  \\\n",
       "0      0  24.005239   8753  11456.047  15404.693   307.27652     True   \n",
       "1      0  24.081249   7872  10957.978  15623.919  2110.89580     True   \n",
       "2      0  24.498110   8531   9898.779  16434.060   758.81110     True   \n",
       "3      0  24.558104   8078  10321.058  16104.590  1660.70450     True   \n",
       "4      0  24.561638   8301  11434.742  15376.045  1209.92570     True   \n",
       "\n",
       "          E          R         x          y          z  \n",
       "0  4.747791  14610.378  8290.779  11995.618  911.74286  \n",
       "1  4.747791  14610.378  8290.779  11995.618  911.74286  \n",
       "2  4.747791  14610.378  8290.779  11995.618  911.74286  \n",
       "3  4.747791  14610.378  8290.779  11995.618  911.74286  \n",
       "4  4.747791  14610.378  8290.779  11995.618  911.74286  "
      ]
     },
     "execution_count": 5,
     "metadata": {},
     "output_type": "execute_result"
    }
   ],
   "source": [
    "train.head() # spmt_hits.head() "
   ]
  },
  {
   "cell_type": "code",
   "execution_count": 69,
   "metadata": {},
   "outputs": [
    {
     "data": {
      "text/html": [
       "<div>\n",
       "<style>\n",
       "    .dataframe thead tr:only-child th {\n",
       "        text-align: right;\n",
       "    }\n",
       "\n",
       "    .dataframe thead th {\n",
       "        text-align: left;\n",
       "    }\n",
       "\n",
       "    .dataframe tbody tr th {\n",
       "        vertical-align: top;\n",
       "    }\n",
       "</style>\n",
       "<table border=\"1\" class=\"dataframe\">\n",
       "  <thead>\n",
       "    <tr style=\"text-align: right;\">\n",
       "      <th></th>\n",
       "      <th>evtID</th>\n",
       "      <th>E</th>\n",
       "      <th>R</th>\n",
       "    </tr>\n",
       "  </thead>\n",
       "  <tbody>\n",
       "    <tr>\n",
       "      <th>2</th>\n",
       "      <td>2</td>\n",
       "      <td>6.823932</td>\n",
       "      <td>14573.132</td>\n",
       "    </tr>\n",
       "    <tr>\n",
       "      <th>6</th>\n",
       "      <td>6</td>\n",
       "      <td>7.886344</td>\n",
       "      <td>16146.320</td>\n",
       "    </tr>\n",
       "    <tr>\n",
       "      <th>8</th>\n",
       "      <td>8</td>\n",
       "      <td>6.640760</td>\n",
       "      <td>8583.734</td>\n",
       "    </tr>\n",
       "    <tr>\n",
       "      <th>13</th>\n",
       "      <td>13</td>\n",
       "      <td>3.580564</td>\n",
       "      <td>16082.676</td>\n",
       "    </tr>\n",
       "    <tr>\n",
       "      <th>14</th>\n",
       "      <td>14</td>\n",
       "      <td>0.835570</td>\n",
       "      <td>12824.286</td>\n",
       "    </tr>\n",
       "  </tbody>\n",
       "</table>\n",
       "</div>"
      ],
      "text/plain": [
       "    evtID         E          R\n",
       "2       2  6.823932  14573.132\n",
       "6       6  7.886344  16146.320\n",
       "8       8  6.640760   8583.734\n",
       "13     13  3.580564  16082.676\n",
       "14     14  0.835570  12824.286"
      ]
     },
     "execution_count": 69,
     "metadata": {},
     "output_type": "execute_result"
    }
   ],
   "source": [
    "true_info.head()"
   ]
  },
  {
   "cell_type": "markdown",
   "metadata": {},
   "source": [
    "# CatBoost"
   ]
  },
  {
   "cell_type": "code",
   "execution_count": 19,
   "metadata": {},
   "outputs": [],
   "source": [
    "result = []\n",
    "\n",
    "for name, group in train.groupby(\"event\"):\n",
    "    result.append({\n",
    "        \"evtID\" : name, \n",
    "        \"E\": group['E'].mean(),\n",
    "        \"R\": group['R'].mean(),\n",
    "        \"N\": len(group),\n",
    "        \"m_x\": group['pmt_x'].mean(),\n",
    "        \"m_y\": group['pmt_y'].mean(),\n",
    "        \"m_z\": group['pmt_z'].mean(),\n",
    "        \"m_time\" : group['hitTime'].mean() - group['hitTime'].min()\n",
    "    })"
   ]
  },
  {
   "cell_type": "code",
   "execution_count": 20,
   "metadata": {},
   "outputs": [],
   "source": [
    "train_df = pd.DataFrame.from_records(result)"
   ]
  },
  {
   "cell_type": "code",
   "execution_count": 58,
   "metadata": {},
   "outputs": [
    {
     "data": {
      "text/html": [
       "<div>\n",
       "<style>\n",
       "    .dataframe thead tr:only-child th {\n",
       "        text-align: right;\n",
       "    }\n",
       "\n",
       "    .dataframe thead th {\n",
       "        text-align: left;\n",
       "    }\n",
       "\n",
       "    .dataframe tbody tr th {\n",
       "        vertical-align: top;\n",
       "    }\n",
       "</style>\n",
       "<table border=\"1\" class=\"dataframe\">\n",
       "  <thead>\n",
       "    <tr style=\"text-align: right;\">\n",
       "      <th></th>\n",
       "      <th>E</th>\n",
       "      <th>N</th>\n",
       "      <th>R</th>\n",
       "      <th>evtID</th>\n",
       "      <th>m_time</th>\n",
       "      <th>m_x</th>\n",
       "      <th>m_y</th>\n",
       "      <th>m_z</th>\n",
       "    </tr>\n",
       "  </thead>\n",
       "  <tbody>\n",
       "    <tr>\n",
       "      <th>0</th>\n",
       "      <td>4.747791</td>\n",
       "      <td>8371</td>\n",
       "      <td>14610.378</td>\n",
       "      <td>0</td>\n",
       "      <td>71.137667</td>\n",
       "      <td>6742.747754</td>\n",
       "      <td>9929.261316</td>\n",
       "      <td>767.530051</td>\n",
       "    </tr>\n",
       "    <tr>\n",
       "      <th>1</th>\n",
       "      <td>3.919721</td>\n",
       "      <td>6716</td>\n",
       "      <td>14630.141</td>\n",
       "      <td>1</td>\n",
       "      <td>74.956280</td>\n",
       "      <td>9148.488313</td>\n",
       "      <td>4254.463594</td>\n",
       "      <td>-5668.030986</td>\n",
       "    </tr>\n",
       "    <tr>\n",
       "      <th>2</th>\n",
       "      <td>3.765940</td>\n",
       "      <td>6172</td>\n",
       "      <td>16820.080</td>\n",
       "      <td>3</td>\n",
       "      <td>87.906531</td>\n",
       "      <td>-1500.403105</td>\n",
       "      <td>-11539.483607</td>\n",
       "      <td>2423.068899</td>\n",
       "    </tr>\n",
       "    <tr>\n",
       "      <th>3</th>\n",
       "      <td>3.217473</td>\n",
       "      <td>5423</td>\n",
       "      <td>13026.938</td>\n",
       "      <td>4</td>\n",
       "      <td>72.440228</td>\n",
       "      <td>-7100.159824</td>\n",
       "      <td>709.128010</td>\n",
       "      <td>7903.695198</td>\n",
       "    </tr>\n",
       "    <tr>\n",
       "      <th>4</th>\n",
       "      <td>7.360527</td>\n",
       "      <td>12314</td>\n",
       "      <td>15190.775</td>\n",
       "      <td>5</td>\n",
       "      <td>73.104454</td>\n",
       "      <td>3216.086416</td>\n",
       "      <td>7470.465446</td>\n",
       "      <td>8721.292460</td>\n",
       "    </tr>\n",
       "  </tbody>\n",
       "</table>\n",
       "</div>"
      ],
      "text/plain": [
       "          E      N          R  evtID     m_time          m_x           m_y  \\\n",
       "0  4.747791   8371  14610.378      0  71.137667  6742.747754   9929.261316   \n",
       "1  3.919721   6716  14630.141      1  74.956280  9148.488313   4254.463594   \n",
       "2  3.765940   6172  16820.080      3  87.906531 -1500.403105 -11539.483607   \n",
       "3  3.217473   5423  13026.938      4  72.440228 -7100.159824    709.128010   \n",
       "4  7.360527  12314  15190.775      5  73.104454  3216.086416   7470.465446   \n",
       "\n",
       "           m_z  \n",
       "0   767.530051  \n",
       "1 -5668.030986  \n",
       "2  2423.068899  \n",
       "3  7903.695198  \n",
       "4  8721.292460  "
      ]
     },
     "execution_count": 58,
     "metadata": {},
     "output_type": "execute_result"
    }
   ],
   "source": [
    "train_df.head()"
   ]
  },
  {
   "cell_type": "code",
   "execution_count": 22,
   "metadata": {},
   "outputs": [
    {
     "name": "stderr",
     "output_type": "stream",
     "text": [
      "/opt/conda/anaconda3/lib/python3.6/importlib/_bootstrap.py:205: RuntimeWarning: compiletime version 3.5 of module '_catboost' does not match runtime version 3.6\n",
      "  return f(*args, **kwds)\n"
     ]
    }
   ],
   "source": [
    "from catboost import Pool, CatBoostRegressor"
   ]
  },
  {
   "cell_type": "code",
   "execution_count": 54,
   "metadata": {
    "collapsed": true
   },
   "outputs": [],
   "source": [
    "train_pool = Pool(train_df[[\"N\", \"m_time\", \"m_x\", \"m_y\", \"m_z\"]].values, \n",
    "                  train_df[\"E\"].values)"
   ]
  },
  {
   "cell_type": "code",
   "execution_count": 77,
   "metadata": {},
   "outputs": [],
   "source": [
    "model = CatBoostRegressor(iterations=200, \n",
    "                          depth=3, \n",
    "                          learning_rate=0.1, \n",
    "                          loss_function='RMSE')"
   ]
  },
  {
   "cell_type": "code",
   "execution_count": 78,
   "metadata": {},
   "outputs": [
    {
     "name": "stdout",
     "output_type": "stream",
     "text": [
      "Borders generated\n",
      "0:\tlearn 5.624809909passed: 0.00207 sec\ttotal: 623ms\tremaining: 2m 3s\n",
      "1:\tlearn 5.10219303passed: 0.0062 sec\ttotal: 630ms\tremaining: 1m 2s\n",
      "2:\tlearn 4.61537744passed: 0.00261 sec\ttotal: 633ms\tremaining: 41.6s\n",
      "3:\tlearn 4.195595076passed: 0.00219 sec\ttotal: 636ms\tremaining: 31.2s\n",
      "4:\tlearn 3.816040241passed: 0.00162 sec\ttotal: 638ms\tremaining: 24.9s\n",
      "5:\tlearn 3.458831564passed: 0.00222 sec\ttotal: 640ms\tremaining: 20.7s\n",
      "6:\tlearn 3.132677488passed: 0.00149 sec\ttotal: 642ms\tremaining: 17.7s\n",
      "7:\tlearn 2.837022462passed: 0.00158 sec\ttotal: 644ms\tremaining: 15.5s\n",
      "8:\tlearn 2.575101319passed: 0.00192 sec\ttotal: 647ms\tremaining: 13.7s\n",
      "9:\tlearn 2.338604299passed: 0.00151 sec\ttotal: 649ms\tremaining: 12.3s\n",
      "10:\tlearn 2.13132785passed: 0.00196 sec\ttotal: 651ms\tremaining: 11.2s\n",
      "11:\tlearn 1.934581404passed: 0.00297 sec\ttotal: 655ms\tremaining: 10.3s\n",
      "12:\tlearn 1.7592955passed: 0.00167 sec\ttotal: 657ms\tremaining: 9.45s\n",
      "13:\tlearn 1.602740439passed: 0.00147 sec\ttotal: 659ms\tremaining: 8.75s\n",
      "14:\tlearn 1.46310939passed: 0.00148 sec\ttotal: 661ms\tremaining: 8.15s\n",
      "15:\tlearn 1.338516489passed: 0.00149 sec\ttotal: 668ms\tremaining: 7.68s\n",
      "16:\tlearn 1.225233033passed: 0.00143 sec\ttotal: 670ms\tremaining: 7.21s\n",
      "17:\tlearn 1.135005344passed: 0.00143 sec\ttotal: 671ms\tremaining: 6.79s\n",
      "18:\tlearn 1.046206008passed: 0.00223 sec\ttotal: 673ms\tremaining: 6.41s\n",
      "19:\tlearn 0.9654988689passed: 0.00156 sec\ttotal: 675ms\tremaining: 6.07s\n",
      "20:\tlearn 0.8944374545passed: 0.00187 sec\ttotal: 677ms\tremaining: 5.77s\n",
      "21:\tlearn 0.8279168658passed: 0.00157 sec\ttotal: 679ms\tremaining: 5.5s\n",
      "22:\tlearn 0.7725379957passed: 0.00148 sec\ttotal: 681ms\tremaining: 5.24s\n",
      "23:\tlearn 0.7223801311passed: 0.00144 sec\ttotal: 683ms\tremaining: 5.01s\n",
      "24:\tlearn 0.6799501244passed: 0.0016 sec\ttotal: 685ms\tremaining: 4.79s\n",
      "25:\tlearn 0.6400228334passed: 0.00144 sec\ttotal: 687ms\tremaining: 4.6s\n",
      "26:\tlearn 0.604100363passed: 0.0015 sec\ttotal: 689ms\tremaining: 4.41s\n",
      "27:\tlearn 0.5736151909passed: 0.00146 sec\ttotal: 691ms\tremaining: 4.24s\n",
      "28:\tlearn 0.5496109731passed: 0.00192 sec\ttotal: 693ms\tremaining: 4.09s\n",
      "29:\tlearn 0.5253202539passed: 0.0026 sec\ttotal: 696ms\tremaining: 3.94s\n",
      "30:\tlearn 0.5037422165passed: 0.00146 sec\ttotal: 698ms\tremaining: 3.81s\n",
      "31:\tlearn 0.4871721127passed: 0.00144 sec\ttotal: 700ms\tremaining: 3.67s\n",
      "32:\tlearn 0.471211435passed: 0.00146 sec\ttotal: 702ms\tremaining: 3.55s\n",
      "33:\tlearn 0.4568863761passed: 0.00147 sec\ttotal: 704ms\tremaining: 3.44s\n",
      "34:\tlearn 0.4442252551passed: 0.0015 sec\ttotal: 706ms\tremaining: 3.33s\n",
      "35:\tlearn 0.4334344346passed: 0.00157 sec\ttotal: 708ms\tremaining: 3.22s\n",
      "36:\tlearn 0.4238410763passed: 0.00145 sec\ttotal: 710ms\tremaining: 3.13s\n",
      "37:\tlearn 0.4145519929passed: 0.00158 sec\ttotal: 712ms\tremaining: 3.03s\n",
      "38:\tlearn 0.4064667045passed: 0.00154 sec\ttotal: 714ms\tremaining: 2.94s\n",
      "39:\tlearn 0.4008659858passed: 0.00146 sec\ttotal: 715ms\tremaining: 2.86s\n",
      "40:\tlearn 0.3941304174passed: 0.00152 sec\ttotal: 717ms\tremaining: 2.78s\n",
      "41:\tlearn 0.3897012952passed: 0.00145 sec\ttotal: 719ms\tremaining: 2.71s\n",
      "42:\tlearn 0.3850288999passed: 0.00151 sec\ttotal: 721ms\tremaining: 2.63s\n",
      "43:\tlearn 0.3800828304passed: 0.00144 sec\ttotal: 723ms\tremaining: 2.56s\n",
      "44:\tlearn 0.3760348151passed: 0.00165 sec\ttotal: 725ms\tremaining: 2.5s\n",
      "45:\tlearn 0.3727036951passed: 0.00144 sec\ttotal: 727ms\tremaining: 2.43s\n",
      "46:\tlearn 0.3695327322passed: 0.00146 sec\ttotal: 729ms\tremaining: 2.37s\n",
      "47:\tlearn 0.3668362073passed: 0.00158 sec\ttotal: 731ms\tremaining: 2.31s\n",
      "48:\tlearn 0.3636971757passed: 0.00263 sec\ttotal: 734ms\tremaining: 2.26s\n",
      "49:\tlearn 0.3615063099passed: 0.00243 sec\ttotal: 737ms\tremaining: 2.21s\n",
      "50:\tlearn 0.3586314621passed: 0.00243 sec\ttotal: 740ms\tremaining: 2.16s\n",
      "51:\tlearn 0.3563522463passed: 0.00178 sec\ttotal: 742ms\tremaining: 2.11s\n",
      "52:\tlearn 0.3545296179passed: 0.00147 sec\ttotal: 744ms\tremaining: 2.06s\n",
      "53:\tlearn 0.3523559873passed: 0.0122 sec\ttotal: 756ms\tremaining: 2.04s\n",
      "54:\tlearn 0.3508437192passed: 0.00155 sec\ttotal: 758ms\tremaining: 2s\n",
      "55:\tlearn 0.3493189491passed: 0.00147 sec\ttotal: 760ms\tremaining: 1.96s\n",
      "56:\tlearn 0.3476248206passed: 0.00149 sec\ttotal: 762ms\tremaining: 1.91s\n",
      "57:\tlearn 0.3463548841passed: 0.00148 sec\ttotal: 764ms\tremaining: 1.87s\n",
      "58:\tlearn 0.3449521987passed: 0.00236 sec\ttotal: 767ms\tremaining: 1.83s\n",
      "59:\tlearn 0.3435973573passed: 0.00193 sec\ttotal: 770ms\tremaining: 1.79s\n",
      "60:\tlearn 0.3423805188passed: 0.0015 sec\ttotal: 772ms\tremaining: 1.76s\n",
      "61:\tlearn 0.3416760449passed: 0.00187 sec\ttotal: 774ms\tremaining: 1.72s\n",
      "62:\tlearn 0.3411052736passed: 0.00179 sec\ttotal: 775ms\tremaining: 1.69s\n",
      "63:\tlearn 0.3398910994passed: 0.00156 sec\ttotal: 777ms\tremaining: 1.65s\n",
      "64:\tlearn 0.338814045passed: 0.00166 sec\ttotal: 779ms\tremaining: 1.62s\n",
      "65:\tlearn 0.3377260936passed: 0.00152 sec\ttotal: 781ms\tremaining: 1.59s\n",
      "66:\tlearn 0.3365121416passed: 0.00156 sec\ttotal: 783ms\tremaining: 1.55s\n",
      "67:\tlearn 0.3358242958passed: 0.00148 sec\ttotal: 785ms\tremaining: 1.52s\n",
      "68:\tlearn 0.3348055989passed: 0.00368 sec\ttotal: 789ms\tremaining: 1.5s\n",
      "69:\tlearn 0.3336784678passed: 0.00223 sec\ttotal: 792ms\tremaining: 1.47s\n",
      "70:\tlearn 0.3326572754passed: 0.0018 sec\ttotal: 794ms\tremaining: 1.44s\n",
      "71:\tlearn 0.3317852243passed: 0.00173 sec\ttotal: 796ms\tremaining: 1.42s\n",
      "72:\tlearn 0.3309421214passed: 0.0021 sec\ttotal: 799ms\tremaining: 1.39s\n",
      "73:\tlearn 0.3303026506passed: 0.00224 sec\ttotal: 801ms\tremaining: 1.36s\n",
      "74:\tlearn 0.329815936passed: 0.00145 sec\ttotal: 803ms\tremaining: 1.34s\n",
      "75:\tlearn 0.3291816268passed: 0.00152 sec\ttotal: 805ms\tremaining: 1.31s\n",
      "76:\tlearn 0.3285620961passed: 0.00154 sec\ttotal: 807ms\tremaining: 1.29s\n",
      "77:\tlearn 0.3279323475passed: 0.00185 sec\ttotal: 809ms\tremaining: 1.26s\n",
      "78:\tlearn 0.3270887959passed: 0.00362 sec\ttotal: 813ms\tremaining: 1.25s\n",
      "79:\tlearn 0.3263744654passed: 0.00219 sec\ttotal: 815ms\tremaining: 1.22s\n",
      "80:\tlearn 0.3260723775passed: 0.00292 sec\ttotal: 819ms\tremaining: 1.2s\n",
      "81:\tlearn 0.3254013429passed: 0.00209 sec\ttotal: 821ms\tremaining: 1.18s\n",
      "82:\tlearn 0.3247846119passed: 0.0018 sec\ttotal: 823ms\tremaining: 1.16s\n",
      "83:\tlearn 0.3241912503passed: 0.00222 sec\ttotal: 826ms\tremaining: 1.14s\n",
      "84:\tlearn 0.3236800896passed: 0.00153 sec\ttotal: 828ms\tremaining: 1.12s\n",
      "85:\tlearn 0.3231139122passed: 0.0015 sec\ttotal: 830ms\tremaining: 1.1s\n",
      "86:\tlearn 0.3225000772passed: 0.00146 sec\ttotal: 832ms\tremaining: 1.08s\n",
      "87:\tlearn 0.3221185826passed: 0.00197 sec\ttotal: 834ms\tremaining: 1.06s\n",
      "88:\tlearn 0.3216810428passed: 0.00158 sec\ttotal: 836ms\tremaining: 1.04s\n",
      "89:\tlearn 0.3212132156passed: 0.00152 sec\ttotal: 838ms\tremaining: 1.02s\n",
      "90:\tlearn 0.3207428599passed: 0.00161 sec\ttotal: 840ms\tremaining: 1s\n",
      "91:\tlearn 0.320293057passed: 0.00203 sec\ttotal: 842ms\tremaining: 988ms\n",
      "92:\tlearn 0.3198486818passed: 0.00346 sec\ttotal: 845ms\tremaining: 973ms\n",
      "93:\tlearn 0.3193439226passed: 0.00143 sec\ttotal: 847ms\tremaining: 955ms\n",
      "94:\tlearn 0.3188805462passed: 0.00151 sec\ttotal: 849ms\tremaining: 939ms\n",
      "95:\tlearn 0.3185483532passed: 0.00145 sec\ttotal: 851ms\tremaining: 922ms\n",
      "96:\tlearn 0.3179081007passed: 0.00147 sec\ttotal: 853ms\tremaining: 906ms\n",
      "97:\tlearn 0.3175467051passed: 0.00143 sec\ttotal: 855ms\tremaining: 890ms\n",
      "98:\tlearn 0.3173401254passed: 0.00186 sec\ttotal: 857ms\tremaining: 875ms\n",
      "99:\tlearn 0.3167001659passed: 0.00144 sec\ttotal: 859ms\tremaining: 859ms\n",
      "100:\tlearn 0.3159895904passed: 0.00148 sec\ttotal: 861ms\tremaining: 844ms\n",
      "101:\tlearn 0.3154618803passed: 0.00144 sec\ttotal: 863ms\tremaining: 829ms\n",
      "102:\tlearn 0.315162155passed: 0.00166 sec\ttotal: 865ms\tremaining: 815ms\n",
      "103:\tlearn 0.314876484passed: 0.00144 sec\ttotal: 867ms\tremaining: 800ms\n",
      "104:\tlearn 0.3145817103passed: 0.00157 sec\ttotal: 869ms\tremaining: 786ms\n",
      "105:\tlearn 0.3138575491passed: 0.00145 sec\ttotal: 871ms\tremaining: 772ms\n",
      "106:\tlearn 0.3136214691passed: 0.00303 sec\ttotal: 874ms\tremaining: 760ms\n",
      "107:\tlearn 0.3134598338passed: 0.00149 sec\ttotal: 876ms\tremaining: 747ms\n",
      "108:\tlearn 0.3131546604passed: 0.00146 sec\ttotal: 878ms\tremaining: 733ms\n",
      "109:\tlearn 0.3124342855passed: 0.00169 sec\ttotal: 881ms\tremaining: 720ms\n",
      "110:\tlearn 0.312157936passed: 0.00146 sec\ttotal: 882ms\tremaining: 708ms\n",
      "111:\tlearn 0.3118998803passed: 0.00146 sec\ttotal: 884ms\tremaining: 695ms\n",
      "112:\tlearn 0.3116145871passed: 0.00144 sec\ttotal: 886ms\tremaining: 682ms\n",
      "113:\tlearn 0.3112540931passed: 0.00148 sec\ttotal: 888ms\tremaining: 670ms\n",
      "114:\tlearn 0.3108055685passed: 0.00144 sec\ttotal: 890ms\tremaining: 658ms\n",
      "115:\tlearn 0.3105590316passed: 0.00145 sec\ttotal: 892ms\tremaining: 646ms\n",
      "116:\tlearn 0.3100649044passed: 0.00145 sec\ttotal: 894ms\tremaining: 634ms\n",
      "117:\tlearn 0.3094495212passed: 0.0015 sec\ttotal: 896ms\tremaining: 622ms\n",
      "118:\tlearn 0.3081360854passed: 0.00155 sec\ttotal: 898ms\tremaining: 611ms\n",
      "119:\tlearn 0.3077745809passed: 0.00143 sec\ttotal: 900ms\tremaining: 600ms\n",
      "120:\tlearn 0.3073151107passed: 0.00147 sec\ttotal: 902ms\tremaining: 589ms\n",
      "121:\tlearn 0.3071153061passed: 0.00144 sec\ttotal: 904ms\tremaining: 578ms\n",
      "122:\tlearn 0.3069030671passed: 0.00144 sec\ttotal: 906ms\tremaining: 567ms\n",
      "123:\tlearn 0.3067572479passed: 0.00147 sec\ttotal: 908ms\tremaining: 556ms\n",
      "124:\tlearn 0.3062367943passed: 0.00231 sec\ttotal: 910ms\tremaining: 546ms\n",
      "125:\tlearn 0.305909111passed: 0.00177 sec\ttotal: 913ms\tremaining: 536ms\n",
      "126:\tlearn 0.3056821174passed: 0.00167 sec\ttotal: 915ms\tremaining: 526ms\n",
      "127:\tlearn 0.3056716019passed: 0.00126 sec\ttotal: 916ms\tremaining: 515ms\n",
      "128:\tlearn 0.305035575passed: 0.00179 sec\ttotal: 919ms\tremaining: 506ms\n",
      "129:\tlearn 0.3048676019passed: 0.00166 sec\ttotal: 921ms\tremaining: 496ms\n",
      "130:\tlearn 0.3043669301passed: 0.00165 sec\ttotal: 923ms\tremaining: 486ms\n",
      "131:\tlearn 0.3041941244passed: 0.0017 sec\ttotal: 925ms\tremaining: 476ms\n",
      "132:\tlearn 0.304073012passed: 0.00199 sec\ttotal: 927ms\tremaining: 467ms\n",
      "133:\tlearn 0.3038311835passed: 0.0018 sec\ttotal: 929ms\tremaining: 458ms\n",
      "134:\tlearn 0.3036955631passed: 0.00168 sec\ttotal: 932ms\tremaining: 449ms\n",
      "135:\tlearn 0.3034651546passed: 0.00164 sec\ttotal: 934ms\tremaining: 439ms\n",
      "136:\tlearn 0.3032275239passed: 0.00164 sec\ttotal: 936ms\tremaining: 430ms\n",
      "137:\tlearn 0.302968994passed: 0.00166 sec\ttotal: 938ms\tremaining: 421ms\n",
      "138:\tlearn 0.3027164103passed: 0.00168 sec\ttotal: 940ms\tremaining: 413ms\n",
      "139:\tlearn 0.3024733685passed: 0.00192 sec\ttotal: 942ms\tremaining: 404ms\n",
      "140:\tlearn 0.3023066837passed: 0.00168 sec\ttotal: 945ms\tremaining: 395ms\n",
      "141:\tlearn 0.3021485027passed: 0.00164 sec\ttotal: 947ms\tremaining: 387ms\n",
      "142:\tlearn 0.302049522passed: 0.00167 sec\ttotal: 949ms\tremaining: 378ms\n",
      "143:\tlearn 0.3018696461passed: 0.00167 sec\ttotal: 951ms\tremaining: 370ms\n",
      "144:\tlearn 0.3015817911passed: 0.00166 sec\ttotal: 953ms\tremaining: 361ms\n",
      "145:\tlearn 0.3013523267passed: 0.00166 sec\ttotal: 955ms\tremaining: 353ms\n",
      "146:\tlearn 0.3012392319passed: 0.0017 sec\ttotal: 957ms\tremaining: 345ms\n",
      "147:\tlearn 0.3004631622passed: 0.00167 sec\ttotal: 959ms\tremaining: 337ms\n",
      "148:\tlearn 0.3000651489passed: 0.00168 sec\ttotal: 962ms\tremaining: 329ms\n",
      "149:\tlearn 0.2999666456passed: 0.00166 sec\ttotal: 964ms\tremaining: 321ms\n",
      "150:\tlearn 0.299766977passed: 0.00172 sec\ttotal: 966ms\tremaining: 313ms\n",
      "151:\tlearn 0.2996748351passed: 0.00168 sec\ttotal: 968ms\tremaining: 306ms\n",
      "152:\tlearn 0.2993254715passed: 0.00167 sec\ttotal: 970ms\tremaining: 298ms\n",
      "153:\tlearn 0.298822696passed: 0.0017 sec\ttotal: 972ms\tremaining: 290ms\n",
      "154:\tlearn 0.2986733783passed: 0.00211 sec\ttotal: 975ms\tremaining: 283ms\n",
      "155:\tlearn 0.2985185649passed: 0.00172 sec\ttotal: 977ms\tremaining: 276ms\n",
      "156:\tlearn 0.298298715passed: 0.00169 sec\ttotal: 979ms\tremaining: 268ms\n",
      "157:\tlearn 0.2977878847passed: 0.00169 sec\ttotal: 981ms\tremaining: 261ms\n",
      "158:\tlearn 0.2975377023passed: 0.00172 sec\ttotal: 983ms\tremaining: 254ms\n",
      "159:\tlearn 0.297285781passed: 0.00171 sec\ttotal: 986ms\tremaining: 246ms\n",
      "160:\tlearn 0.2961554617passed: 0.00164 sec\ttotal: 988ms\tremaining: 239ms\n",
      "161:\tlearn 0.2958939524passed: 0.00204 sec\ttotal: 990ms\tremaining: 232ms\n",
      "162:\tlearn 0.2957852258passed: 0.00172 sec\ttotal: 992ms\tremaining: 225ms\n",
      "163:\tlearn 0.2956603831passed: 0.00166 sec\ttotal: 994ms\tremaining: 218ms\n",
      "164:\tlearn 0.2953529949passed: 0.00177 sec\ttotal: 997ms\tremaining: 211ms\n",
      "165:\tlearn 0.2952895895passed: 0.00166 sec\ttotal: 999ms\tremaining: 205ms\n",
      "166:\tlearn 0.2950304374passed: 0.00169 sec\ttotal: 1s\tremaining: 198ms\n",
      "167:\tlearn 0.2948161837passed: 0.00164 sec\ttotal: 1s\tremaining: 191ms\n",
      "168:\tlearn 0.2947569029passed: 0.00169 sec\ttotal: 1s\tremaining: 184ms\n",
      "169:\tlearn 0.294437022passed: 0.00165 sec\ttotal: 1.01s\tremaining: 178ms\n",
      "170:\tlearn 0.294327998passed: 0.00164 sec\ttotal: 1.01s\tremaining: 171ms\n",
      "171:\tlearn 0.2941459949passed: 0.00163 sec\ttotal: 1.01s\tremaining: 165ms\n",
      "172:\tlearn 0.2936472902passed: 0.00169 sec\ttotal: 1.01s\tremaining: 158ms\n",
      "173:\tlearn 0.2935206101passed: 0.00165 sec\ttotal: 1.01s\tremaining: 152ms\n",
      "174:\tlearn 0.2934276508passed: 0.00168 sec\ttotal: 1.02s\tremaining: 145ms\n"
     ]
    },
    {
     "name": "stdout",
     "output_type": "stream",
     "text": [
      "175:\tlearn 0.2933452821passed: 0.00295 sec\ttotal: 1.02s\tremaining: 139ms\n",
      "176:\tlearn 0.2926238439passed: 0.00169 sec\ttotal: 1.02s\tremaining: 133ms\n",
      "177:\tlearn 0.292305145passed: 0.00167 sec\ttotal: 1.02s\tremaining: 127ms\n",
      "178:\tlearn 0.2919328899passed: 0.00163 sec\ttotal: 1.03s\tremaining: 121ms\n",
      "179:\tlearn 0.2917728761passed: 0.00173 sec\ttotal: 1.03s\tremaining: 114ms\n",
      "180:\tlearn 0.2914015892passed: 0.00166 sec\ttotal: 1.03s\tremaining: 108ms\n",
      "181:\tlearn 0.2912338975passed: 0.00179 sec\ttotal: 1.03s\tremaining: 102ms\n",
      "182:\tlearn 0.2910569667passed: 0.00166 sec\ttotal: 1.03s\tremaining: 96.2ms\n",
      "183:\tlearn 0.2909091906passed: 0.00166 sec\ttotal: 1.04s\tremaining: 90.3ms\n",
      "184:\tlearn 0.2907985173passed: 0.00171 sec\ttotal: 1.04s\tremaining: 84.4ms\n",
      "185:\tlearn 0.2906135457passed: 0.00167 sec\ttotal: 1.04s\tremaining: 78.5ms\n",
      "186:\tlearn 0.2903117171passed: 0.00166 sec\ttotal: 1.04s\tremaining: 72.6ms\n",
      "187:\tlearn 0.2901060539passed: 0.00167 sec\ttotal: 1.05s\tremaining: 66.8ms\n",
      "188:\tlearn 0.2898449363passed: 0.00168 sec\ttotal: 1.05s\tremaining: 61.1ms\n",
      "189:\tlearn 0.2893000025passed: 0.00165 sec\ttotal: 1.05s\tremaining: 55.3ms\n",
      "190:\tlearn 0.2892407373passed: 0.00179 sec\ttotal: 1.05s\tremaining: 49.6ms\n",
      "191:\tlearn 0.2890013157passed: 0.00165 sec\ttotal: 1.05s\tremaining: 44ms\n",
      "192:\tlearn 0.2887137216passed: 0.00185 sec\ttotal: 1.06s\tremaining: 38.4ms\n",
      "193:\tlearn 0.2885699442passed: 0.00171 sec\ttotal: 1.06s\tremaining: 32.8ms\n",
      "194:\tlearn 0.2883771277passed: 0.00167 sec\ttotal: 1.06s\tremaining: 27.2ms\n",
      "195:\tlearn 0.287846634passed: 0.00168 sec\ttotal: 1.06s\tremaining: 21.7ms\n",
      "196:\tlearn 0.2877460557passed: 0.00165 sec\ttotal: 1.07s\tremaining: 16.2ms\n",
      "197:\tlearn 0.2876825344passed: 0.00172 sec\ttotal: 1.07s\tremaining: 10.8ms\n",
      "198:\tlearn 0.2875223299passed: 0.00172 sec\ttotal: 1.07s\tremaining: 5.38ms\n",
      "199:\tlearn 0.2874563738passed: 0.00173 sec\ttotal: 1.07s\tremaining: 0us\n"
     ]
    },
    {
     "data": {
      "text/plain": [
       "<catboost.core.CatBoostRegressor at 0x7f3e88ec7ef0>"
      ]
     },
     "execution_count": 78,
     "metadata": {},
     "output_type": "execute_result"
    }
   ],
   "source": [
    "model.fit(train_pool, verbose=True)"
   ]
  },
  {
   "cell_type": "code",
   "execution_count": 88,
   "metadata": {
    "collapsed": true
   },
   "outputs": [],
   "source": [
    "train_pool_R = Pool(train_df[[\"N\", \"m_time\", \"m_x\", \"m_y\", \"m_z\"]].values, \n",
    "                  train_df[\"R\"].values)"
   ]
  },
  {
   "cell_type": "code",
   "execution_count": 89,
   "metadata": {},
   "outputs": [
    {
     "name": "stdout",
     "output_type": "stream",
     "text": [
      "Borders generated\n",
      "0:\tlearn 12416.24733passed: 0.00624 sec\ttotal: 128ms\tremaining: 25.5s\n",
      "1:\tlearn 11224.34754passed: 0.00213 sec\ttotal: 131ms\tremaining: 12.9s\n",
      "2:\tlearn 10148.17714passed: 0.00351 sec\ttotal: 135ms\tremaining: 8.85s\n",
      "3:\tlearn 9178.123159passed: 0.00329 sec\ttotal: 139ms\tremaining: 6.79s\n",
      "4:\tlearn 8338.317493passed: 0.00181 sec\ttotal: 141ms\tremaining: 5.49s\n",
      "5:\tlearn 7546.019576passed: 0.00188 sec\ttotal: 143ms\tremaining: 4.63s\n",
      "6:\tlearn 6863.307854passed: 0.00158 sec\ttotal: 145ms\tremaining: 4s\n",
      "7:\tlearn 6272.346723passed: 0.0015 sec\ttotal: 147ms\tremaining: 3.53s\n",
      "8:\tlearn 5696.261215passed: 0.00144 sec\ttotal: 149ms\tremaining: 3.16s\n",
      "9:\tlearn 5177.422402passed: 0.00144 sec\ttotal: 151ms\tremaining: 2.87s\n",
      "10:\tlearn 4713.464238passed: 0.00144 sec\ttotal: 153ms\tremaining: 2.62s\n",
      "11:\tlearn 4301.93063passed: 0.00155 sec\ttotal: 155ms\tremaining: 2.42s\n",
      "12:\tlearn 3940.748715passed: 0.00144 sec\ttotal: 157ms\tremaining: 2.25s\n",
      "13:\tlearn 3620.905436passed: 0.00143 sec\ttotal: 158ms\tremaining: 2.1s\n",
      "14:\tlearn 3335.700748passed: 0.00144 sec\ttotal: 160ms\tremaining: 1.98s\n",
      "15:\tlearn 3072.462561passed: 0.00149 sec\ttotal: 162ms\tremaining: 1.86s\n",
      "16:\tlearn 2844.052675passed: 0.00155 sec\ttotal: 164ms\tremaining: 1.77s\n",
      "17:\tlearn 2645.082415passed: 0.00151 sec\ttotal: 166ms\tremaining: 1.68s\n",
      "18:\tlearn 2477.153149passed: 0.00152 sec\ttotal: 168ms\tremaining: 1.6s\n",
      "19:\tlearn 2325.722885passed: 0.00189 sec\ttotal: 170ms\tremaining: 1.53s\n",
      "20:\tlearn 2190.625867passed: 0.00144 sec\ttotal: 172ms\tremaining: 1.47s\n",
      "21:\tlearn 2074.599995passed: 0.00143 sec\ttotal: 174ms\tremaining: 1.41s\n",
      "22:\tlearn 1975.372852passed: 0.00172 sec\ttotal: 176ms\tremaining: 1.35s\n",
      "23:\tlearn 1887.889948passed: 0.00143 sec\ttotal: 178ms\tremaining: 1.3s\n",
      "24:\tlearn 1806.591124passed: 0.00144 sec\ttotal: 180ms\tremaining: 1.26s\n",
      "25:\tlearn 1736.850844passed: 0.00144 sec\ttotal: 182ms\tremaining: 1.22s\n",
      "26:\tlearn 1675.250062passed: 0.00147 sec\ttotal: 184ms\tremaining: 1.18s\n",
      "27:\tlearn 1623.607415passed: 0.00154 sec\ttotal: 186ms\tremaining: 1.14s\n",
      "28:\tlearn 1582.905748passed: 0.00158 sec\ttotal: 188ms\tremaining: 1.11s\n",
      "29:\tlearn 1540.263337passed: 0.00155 sec\ttotal: 190ms\tremaining: 1.07s\n",
      "30:\tlearn 1503.634072passed: 0.00157 sec\ttotal: 192ms\tremaining: 1.04s\n",
      "31:\tlearn 1472.251056passed: 0.00142 sec\ttotal: 194ms\tremaining: 1.01s\n",
      "32:\tlearn 1445.674601passed: 0.00144 sec\ttotal: 195ms\tremaining: 989ms\n",
      "33:\tlearn 1419.305715passed: 0.00143 sec\ttotal: 197ms\tremaining: 963ms\n",
      "34:\tlearn 1399.385718passed: 0.0018 sec\ttotal: 199ms\tremaining: 940ms\n",
      "35:\tlearn 1382.219513passed: 0.0017 sec\ttotal: 202ms\tremaining: 918ms\n",
      "36:\tlearn 1366.695047passed: 0.0154 sec\ttotal: 217ms\tremaining: 958ms\n",
      "37:\tlearn 1353.534173passed: 0.00195 sec\ttotal: 220ms\tremaining: 937ms\n",
      "38:\tlearn 1339.032055passed: 0.0015 sec\ttotal: 222ms\tremaining: 915ms\n",
      "39:\tlearn 1326.998761passed: 0.00149 sec\ttotal: 224ms\tremaining: 895ms\n",
      "40:\tlearn 1313.403933passed: 0.00148 sec\ttotal: 226ms\tremaining: 875ms\n",
      "41:\tlearn 1301.131185passed: 0.00149 sec\ttotal: 228ms\tremaining: 856ms\n",
      "42:\tlearn 1290.612246passed: 0.00143 sec\ttotal: 229ms\tremaining: 838ms\n",
      "43:\tlearn 1281.675453passed: 0.00149 sec\ttotal: 231ms\tremaining: 819ms\n",
      "44:\tlearn 1270.812757passed: 0.00203 sec\ttotal: 233ms\tremaining: 804ms\n",
      "45:\tlearn 1262.010249passed: 0.00147 sec\ttotal: 236ms\tremaining: 789ms\n",
      "46:\tlearn 1254.294358passed: 0.00154 sec\ttotal: 238ms\tremaining: 773ms\n",
      "47:\tlearn 1246.312789passed: 0.00152 sec\ttotal: 240ms\tremaining: 758ms\n",
      "48:\tlearn 1240.060288passed: 0.00145 sec\ttotal: 241ms\tremaining: 744ms\n",
      "49:\tlearn 1233.762391passed: 0.00145 sec\ttotal: 243ms\tremaining: 730ms\n",
      "50:\tlearn 1228.212774passed: 0.00142 sec\ttotal: 245ms\tremaining: 717ms\n",
      "51:\tlearn 1222.016803passed: 0.00146 sec\ttotal: 247ms\tremaining: 703ms\n",
      "52:\tlearn 1215.900682passed: 0.00144 sec\ttotal: 249ms\tremaining: 691ms\n",
      "53:\tlearn 1209.053895passed: 0.00144 sec\ttotal: 251ms\tremaining: 678ms\n",
      "54:\tlearn 1203.815017passed: 0.00155 sec\ttotal: 253ms\tremaining: 667ms\n",
      "55:\tlearn 1198.727605passed: 0.00155 sec\ttotal: 255ms\tremaining: 655ms\n",
      "56:\tlearn 1193.908228passed: 0.00284 sec\ttotal: 258ms\tremaining: 647ms\n",
      "57:\tlearn 1188.191216passed: 0.00156 sec\ttotal: 260ms\tremaining: 637ms\n",
      "58:\tlearn 1182.424755passed: 0.00142 sec\ttotal: 262ms\tremaining: 626ms\n",
      "59:\tlearn 1177.657855passed: 0.00199 sec\ttotal: 264ms\tremaining: 617ms\n",
      "60:\tlearn 1174.063908passed: 0.00186 sec\ttotal: 266ms\tremaining: 607ms\n",
      "61:\tlearn 1170.021984passed: 0.00288 sec\ttotal: 269ms\tremaining: 599ms\n",
      "62:\tlearn 1164.918693passed: 0.00145 sec\ttotal: 271ms\tremaining: 589ms\n",
      "63:\tlearn 1159.513106passed: 0.0015 sec\ttotal: 273ms\tremaining: 580ms\n",
      "64:\tlearn 1154.552072passed: 0.00193 sec\ttotal: 276ms\tremaining: 572ms\n",
      "65:\tlearn 1150.816733passed: 0.00167 sec\ttotal: 278ms\tremaining: 564ms\n",
      "66:\tlearn 1147.348264passed: 0.00205 sec\ttotal: 280ms\tremaining: 556ms\n",
      "67:\tlearn 1143.612438passed: 0.00146 sec\ttotal: 282ms\tremaining: 548ms\n",
      "68:\tlearn 1139.19388passed: 0.00147 sec\ttotal: 284ms\tremaining: 540ms\n",
      "69:\tlearn 1135.13883passed: 0.00145 sec\ttotal: 286ms\tremaining: 532ms\n",
      "70:\tlearn 1130.394472passed: 0.0015 sec\ttotal: 288ms\tremaining: 524ms\n",
      "71:\tlearn 1126.027712passed: 0.00145 sec\ttotal: 290ms\tremaining: 516ms\n",
      "72:\tlearn 1122.560658passed: 0.00172 sec\ttotal: 292ms\tremaining: 508ms\n",
      "73:\tlearn 1118.759966passed: 0.00144 sec\ttotal: 294ms\tremaining: 501ms\n",
      "74:\tlearn 1115.999439passed: 0.00173 sec\ttotal: 296ms\tremaining: 494ms\n",
      "75:\tlearn 1112.306028passed: 0.00229 sec\ttotal: 299ms\tremaining: 488ms\n",
      "76:\tlearn 1108.485188passed: 0.00157 sec\ttotal: 301ms\tremaining: 481ms\n",
      "77:\tlearn 1104.407306passed: 0.00144 sec\ttotal: 303ms\tremaining: 474ms\n",
      "78:\tlearn 1101.371748passed: 0.00146 sec\ttotal: 305ms\tremaining: 467ms\n",
      "79:\tlearn 1098.583116passed: 0.00188 sec\ttotal: 307ms\tremaining: 461ms\n",
      "80:\tlearn 1094.652476passed: 0.00147 sec\ttotal: 309ms\tremaining: 455ms\n",
      "81:\tlearn 1091.645762passed: 0.00155 sec\ttotal: 312ms\tremaining: 448ms\n",
      "82:\tlearn 1086.683475passed: 0.00144 sec\ttotal: 314ms\tremaining: 442ms\n",
      "83:\tlearn 1082.489223passed: 0.00151 sec\ttotal: 315ms\tremaining: 436ms\n",
      "84:\tlearn 1079.1286passed: 0.00206 sec\ttotal: 318ms\tremaining: 430ms\n",
      "85:\tlearn 1075.55819passed: 0.0138 sec\ttotal: 332ms\tremaining: 440ms\n",
      "86:\tlearn 1071.976295passed: 0.00146 sec\ttotal: 335ms\tremaining: 434ms\n",
      "87:\tlearn 1068.778402passed: 0.0015 sec\ttotal: 337ms\tremaining: 428ms\n",
      "88:\tlearn 1065.627533passed: 0.00152 sec\ttotal: 339ms\tremaining: 422ms\n",
      "89:\tlearn 1061.595484passed: 0.00185 sec\ttotal: 341ms\tremaining: 416ms\n",
      "90:\tlearn 1058.415204passed: 0.00177 sec\ttotal: 343ms\tremaining: 411ms\n",
      "91:\tlearn 1054.755177passed: 0.00146 sec\ttotal: 345ms\tremaining: 405ms\n",
      "92:\tlearn 1050.550614passed: 0.00149 sec\ttotal: 347ms\tremaining: 399ms\n",
      "93:\tlearn 1046.775284passed: 0.00148 sec\ttotal: 349ms\tremaining: 393ms\n",
      "94:\tlearn 1043.235288passed: 0.00148 sec\ttotal: 351ms\tremaining: 388ms\n",
      "95:\tlearn 1039.806844passed: 0.0015 sec\ttotal: 353ms\tremaining: 382ms\n",
      "96:\tlearn 1034.90381passed: 0.00148 sec\ttotal: 355ms\tremaining: 377ms\n",
      "97:\tlearn 1031.076609passed: 0.00156 sec\ttotal: 357ms\tremaining: 371ms\n",
      "98:\tlearn 1028.158504passed: 0.00263 sec\ttotal: 360ms\tremaining: 367ms\n",
      "99:\tlearn 1025.235863passed: 0.00146 sec\ttotal: 362ms\tremaining: 362ms\n",
      "100:\tlearn 1021.338994passed: 0.00156 sec\ttotal: 364ms\tremaining: 357ms\n",
      "101:\tlearn 1018.078175passed: 0.00174 sec\ttotal: 366ms\tremaining: 352ms\n",
      "102:\tlearn 1015.440043passed: 0.00156 sec\ttotal: 368ms\tremaining: 347ms\n",
      "103:\tlearn 1012.635539passed: 0.00255 sec\ttotal: 371ms\tremaining: 343ms\n",
      "104:\tlearn 1009.477608passed: 0.00206 sec\ttotal: 374ms\tremaining: 338ms\n",
      "105:\tlearn 1006.438144passed: 0.00272 sec\ttotal: 377ms\tremaining: 334ms\n",
      "106:\tlearn 1003.392469passed: 0.00246 sec\ttotal: 380ms\tremaining: 330ms\n",
      "107:\tlearn 1000.477084passed: 0.00238 sec\ttotal: 383ms\tremaining: 326ms\n",
      "108:\tlearn 997.9368281passed: 0.0018 sec\ttotal: 385ms\tremaining: 321ms\n",
      "109:\tlearn 995.5046378passed: 0.00184 sec\ttotal: 387ms\tremaining: 317ms\n",
      "110:\tlearn 992.9067122passed: 0.00176 sec\ttotal: 389ms\tremaining: 312ms\n",
      "111:\tlearn 989.4385507passed: 0.00167 sec\ttotal: 391ms\tremaining: 307ms\n",
      "112:\tlearn 986.0547763passed: 0.00145 sec\ttotal: 393ms\tremaining: 303ms\n",
      "113:\tlearn 983.5139696passed: 0.0022 sec\ttotal: 395ms\tremaining: 298ms\n",
      "114:\tlearn 979.8682073passed: 0.00157 sec\ttotal: 398ms\tremaining: 294ms\n",
      "115:\tlearn 975.9619473passed: 0.00434 sec\ttotal: 402ms\tremaining: 291ms\n",
      "116:\tlearn 972.9328935passed: 0.00158 sec\ttotal: 404ms\tremaining: 287ms\n",
      "117:\tlearn 970.4155806passed: 0.00148 sec\ttotal: 406ms\tremaining: 282ms\n",
      "118:\tlearn 967.2547624passed: 0.00155 sec\ttotal: 408ms\tremaining: 278ms\n",
      "119:\tlearn 964.346856passed: 0.00153 sec\ttotal: 410ms\tremaining: 273ms\n",
      "120:\tlearn 961.32241passed: 0.0015 sec\ttotal: 412ms\tremaining: 269ms\n",
      "121:\tlearn 958.9207543passed: 0.00178 sec\ttotal: 414ms\tremaining: 265ms\n",
      "122:\tlearn 956.0352587passed: 0.00158 sec\ttotal: 417ms\tremaining: 261ms\n",
      "123:\tlearn 953.5638145passed: 0.00348 sec\ttotal: 421ms\tremaining: 258ms\n",
      "124:\tlearn 951.1080632passed: 0.00257 sec\ttotal: 424ms\tremaining: 254ms\n",
      "125:\tlearn 948.9981924passed: 0.00178 sec\ttotal: 426ms\tremaining: 250ms\n",
      "126:\tlearn 946.4049825passed: 0.00158 sec\ttotal: 428ms\tremaining: 246ms\n",
      "127:\tlearn 943.9350867passed: 0.00145 sec\ttotal: 430ms\tremaining: 242ms\n",
      "128:\tlearn 941.458801passed: 0.00149 sec\ttotal: 432ms\tremaining: 238ms\n",
      "129:\tlearn 938.1326778passed: 0.00147 sec\ttotal: 434ms\tremaining: 233ms\n",
      "130:\tlearn 936.1320977passed: 0.00155 sec\ttotal: 436ms\tremaining: 229ms\n",
      "131:\tlearn 933.2021098passed: 0.00146 sec\ttotal: 438ms\tremaining: 225ms\n",
      "132:\tlearn 930.5886299passed: 0.00154 sec\ttotal: 439ms\tremaining: 221ms\n",
      "133:\tlearn 927.396144passed: 0.00145 sec\ttotal: 441ms\tremaining: 217ms\n",
      "134:\tlearn 924.3328597passed: 0.0015 sec\ttotal: 443ms\tremaining: 213ms\n",
      "135:\tlearn 922.0660039passed: 0.00145 sec\ttotal: 445ms\tremaining: 209ms\n",
      "136:\tlearn 919.7715846passed: 0.00146 sec\ttotal: 447ms\tremaining: 206ms\n",
      "137:\tlearn 917.477969passed: 0.00146 sec\ttotal: 449ms\tremaining: 202ms\n",
      "138:\tlearn 914.6999711passed: 0.00151 sec\ttotal: 451ms\tremaining: 198ms\n",
      "139:\tlearn 912.6482737passed: 0.00146 sec\ttotal: 453ms\tremaining: 194ms\n",
      "140:\tlearn 909.6924254passed: 0.00146 sec\ttotal: 455ms\tremaining: 190ms\n",
      "141:\tlearn 907.4821574passed: 0.00147 sec\ttotal: 457ms\tremaining: 187ms\n",
      "142:\tlearn 905.2320103passed: 0.00145 sec\ttotal: 459ms\tremaining: 183ms\n",
      "143:\tlearn 902.9937976passed: 0.00143 sec\ttotal: 461ms\tremaining: 179ms\n",
      "144:\tlearn 900.9381716passed: 0.00144 sec\ttotal: 463ms\tremaining: 176ms\n",
      "145:\tlearn 898.5949264passed: 0.00145 sec\ttotal: 465ms\tremaining: 172ms\n",
      "146:\tlearn 896.0814758passed: 0.0015 sec\ttotal: 467ms\tremaining: 168ms\n",
      "147:\tlearn 893.7216647passed: 0.00157 sec\ttotal: 469ms\tremaining: 165ms\n",
      "148:\tlearn 891.5734914passed: 0.00145 sec\ttotal: 471ms\tremaining: 161ms\n",
      "149:\tlearn 889.0034511passed: 0.00144 sec\ttotal: 473ms\tremaining: 158ms\n",
      "150:\tlearn 886.2735001passed: 0.00146 sec\ttotal: 474ms\tremaining: 154ms\n",
      "151:\tlearn 883.5822799passed: 0.00148 sec\ttotal: 476ms\tremaining: 150ms\n",
      "152:\tlearn 881.5038623passed: 0.00149 sec\ttotal: 478ms\tremaining: 147ms\n",
      "153:\tlearn 878.9918735passed: 0.00158 sec\ttotal: 480ms\tremaining: 143ms\n",
      "154:\tlearn 876.5066658passed: 0.00186 sec\ttotal: 482ms\tremaining: 140ms\n",
      "155:\tlearn 873.9050626passed: 0.0015 sec\ttotal: 484ms\tremaining: 137ms\n",
      "156:\tlearn 871.2413102passed: 0.00145 sec\ttotal: 486ms\tremaining: 133ms\n",
      "157:\tlearn 868.8452511passed: 0.00147 sec\ttotal: 488ms\tremaining: 130ms\n",
      "158:\tlearn 866.2065545passed: 0.00144 sec\ttotal: 490ms\tremaining: 126ms\n",
      "159:\tlearn 863.4602267passed: 0.00148 sec\ttotal: 492ms\tremaining: 123ms\n",
      "160:\tlearn 861.7088097passed: 0.00145 sec\ttotal: 494ms\tremaining: 120ms\n",
      "161:\tlearn 859.3633171passed: 0.00146 sec\ttotal: 496ms\tremaining: 116ms\n",
      "162:\tlearn 856.9982738passed: 0.00193 sec\ttotal: 498ms\tremaining: 113ms\n",
      "163:\tlearn 854.3230872passed: 0.002 sec\ttotal: 501ms\tremaining: 110ms\n",
      "164:\tlearn 851.8672034passed: 0.00187 sec\ttotal: 503ms\tremaining: 107ms\n",
      "165:\tlearn 849.7913196passed: 0.00146 sec\ttotal: 505ms\tremaining: 103ms\n",
      "166:\tlearn 847.4876408passed: 0.00145 sec\ttotal: 507ms\tremaining: 100ms\n",
      "167:\tlearn 845.8187803passed: 0.00143 sec\ttotal: 509ms\tremaining: 96.9ms\n",
      "168:\tlearn 844.0317011passed: 0.00147 sec\ttotal: 510ms\tremaining: 93.6ms\n",
      "169:\tlearn 841.8680929passed: 0.00153 sec\ttotal: 512ms\tremaining: 90.4ms\n",
      "170:\tlearn 839.6000852passed: 0.00195 sec\ttotal: 515ms\tremaining: 87.3ms\n",
      "171:\tlearn 837.5527792passed: 0.00169 sec\ttotal: 517ms\tremaining: 84.2ms\n",
      "172:\tlearn 835.6174768passed: 0.00145 sec\ttotal: 519ms\tremaining: 81ms\n",
      "173:\tlearn 833.4024184passed: 0.00145 sec\ttotal: 521ms\tremaining: 77.8ms\n",
      "174:\tlearn 830.9033642passed: 0.00149 sec\ttotal: 523ms\tremaining: 74.7ms\n",
      "175:\tlearn 828.9376974passed: 0.00144 sec\ttotal: 525ms\tremaining: 71.5ms\n",
      "176:\tlearn 827.0703414passed: 0.00149 sec\ttotal: 526ms\tremaining: 68.4ms\n",
      "177:\tlearn 825.0449517passed: 0.00151 sec\ttotal: 528ms\tremaining: 65.3ms\n",
      "178:\tlearn 823.166634passed: 0.00146 sec\ttotal: 531ms\tremaining: 62.3ms\n"
     ]
    },
    {
     "name": "stdout",
     "output_type": "stream",
     "text": [
      "179:\tlearn 820.9411188passed: 0.00234 sec\ttotal: 534ms\tremaining: 59.3ms\n",
      "180:\tlearn 819.1420235passed: 0.00158 sec\ttotal: 536ms\tremaining: 56.2ms\n",
      "181:\tlearn 817.4492661passed: 0.00147 sec\ttotal: 537ms\tremaining: 53.2ms\n",
      "182:\tlearn 815.3842127passed: 0.00145 sec\ttotal: 539ms\tremaining: 50.1ms\n",
      "183:\tlearn 813.6268557passed: 0.0015 sec\ttotal: 541ms\tremaining: 47.1ms\n",
      "184:\tlearn 811.723988passed: 0.0015 sec\ttotal: 543ms\tremaining: 44ms\n",
      "185:\tlearn 809.6458465passed: 0.00172 sec\ttotal: 545ms\tremaining: 41.1ms\n",
      "186:\tlearn 807.1877133passed: 0.00151 sec\ttotal: 547ms\tremaining: 38ms\n",
      "187:\tlearn 805.1389722passed: 0.00144 sec\ttotal: 549ms\tremaining: 35.1ms\n",
      "188:\tlearn 802.993288passed: 0.00164 sec\ttotal: 551ms\tremaining: 32.1ms\n",
      "189:\tlearn 801.4966299passed: 0.00145 sec\ttotal: 553ms\tremaining: 29.1ms\n",
      "190:\tlearn 799.732236passed: 0.00151 sec\ttotal: 555ms\tremaining: 26.2ms\n",
      "191:\tlearn 797.5273676passed: 0.00162 sec\ttotal: 557ms\tremaining: 23.2ms\n",
      "192:\tlearn 795.3165721passed: 0.00244 sec\ttotal: 560ms\tremaining: 20.3ms\n",
      "193:\tlearn 794.0450804passed: 0.00213 sec\ttotal: 563ms\tremaining: 17.4ms\n",
      "194:\tlearn 792.4360836passed: 0.00165 sec\ttotal: 565ms\tremaining: 14.5ms\n",
      "195:\tlearn 790.5916463passed: 0.00152 sec\ttotal: 567ms\tremaining: 11.6ms\n",
      "196:\tlearn 788.7564091passed: 0.0015 sec\ttotal: 568ms\tremaining: 8.66ms\n",
      "197:\tlearn 786.8686904passed: 0.00144 sec\ttotal: 570ms\tremaining: 5.76ms\n",
      "198:\tlearn 785.4597215passed: 0.00146 sec\ttotal: 572ms\tremaining: 2.88ms\n",
      "199:\tlearn 782.5714045passed: 0.00167 sec\ttotal: 574ms\tremaining: 0us\n"
     ]
    },
    {
     "data": {
      "text/plain": [
       "<catboost.core.CatBoostRegressor at 0x7f3e88ec7ef0>"
      ]
     },
     "execution_count": 89,
     "metadata": {},
     "output_type": "execute_result"
    }
   ],
   "source": [
    "model.fit(train_pool_R, verbose=True)"
   ]
  },
  {
   "cell_type": "code",
   "execution_count": 92,
   "metadata": {},
   "outputs": [
    {
     "data": {
      "text/plain": [
       "612418.011793911"
      ]
     },
     "execution_count": 92,
     "metadata": {},
     "output_type": "execute_result"
    }
   ],
   "source": [
    "model.score(train_pool_R, train_df[\"R\"].values)"
   ]
  },
  {
   "cell_type": "code",
   "execution_count": 93,
   "metadata": {},
   "outputs": [
    {
     "data": {
      "text/plain": [
       "<matplotlib.collections.PathCollection at 0x7f3e88d25588>"
      ]
     },
     "execution_count": 93,
     "metadata": {},
     "output_type": "execute_result"
    },
    {
     "data": {
      "image/png": "[encoded data removed]",
      "text/plain": [
       "<matplotlib.figure.Figure at 0x7f3e88d624e0>"
      ]
     },
     "metadata": {},
     "output_type": "display_data"
    }
   ],
   "source": [
    "plt.scatter(train_df[\"R\"].values, model.predict(train_pool_R) )"
   ]
  },
  {
   "cell_type": "code",
   "execution_count": 80,
   "metadata": {},
   "outputs": [
    {
     "data": {
      "text/plain": [
       "0.082631167740254"
      ]
     },
     "execution_count": 80,
     "metadata": {},
     "output_type": "execute_result"
    }
   ],
   "source": [
    "model.score(train_pool, train_df[\"E\"].values)"
   ]
  },
  {
   "cell_type": "code",
   "execution_count": 81,
   "metadata": {},
   "outputs": [
    {
     "data": {
      "text/plain": [
       "<matplotlib.collections.PathCollection at 0x7f3e88eaf7b8>"
      ]
     },
     "execution_count": 81,
     "metadata": {},
     "output_type": "execute_result"
    },
    {
     "data": {
      "image/png": "[encoded data removed]",
      "text/plain": [
       "<matplotlib.figure.Figure at 0x7f3e88f490b8>"
      ]
     },
     "metadata": {},
     "output_type": "display_data"
    }
   ],
   "source": [
    "plt.scatter(train_df[\"E\"].values, model.predict(train_pool) )"
   ]
  },
  {
   "cell_type": "code",
   "execution_count": 82,
   "metadata": {},
   "outputs": [
    {
     "data": {
      "text/html": [
       "<div>\n",
       "<style>\n",
       "    .dataframe thead tr:only-child th {\n",
       "        text-align: right;\n",
       "    }\n",
       "\n",
       "    .dataframe thead th {\n",
       "        text-align: left;\n",
       "    }\n",
       "\n",
       "    .dataframe tbody tr th {\n",
       "        vertical-align: top;\n",
       "    }\n",
       "</style>\n",
       "<table border=\"1\" class=\"dataframe\">\n",
       "  <thead>\n",
       "    <tr style=\"text-align: right;\">\n",
       "      <th></th>\n",
       "      <th>event</th>\n",
       "      <th>hitTime</th>\n",
       "      <th>pmtID</th>\n",
       "      <th>pmt_x</th>\n",
       "      <th>pmt_y</th>\n",
       "      <th>pmt_z</th>\n",
       "      <th>isLarge</th>\n",
       "      <th>x</th>\n",
       "      <th>y</th>\n",
       "      <th>z</th>\n",
       "    </tr>\n",
       "  </thead>\n",
       "  <tbody>\n",
       "    <tr>\n",
       "      <th>15087</th>\n",
       "      <td>2</td>\n",
       "      <td>23.950851</td>\n",
       "      <td>317805</td>\n",
       "      <td>18378.736</td>\n",
       "      <td>-5522.8594</td>\n",
       "      <td>600.07214</td>\n",
       "      <td>False</td>\n",
       "      <td>14063.338</td>\n",
       "      <td>-3812.854</td>\n",
       "      <td>246.6528</td>\n",
       "    </tr>\n",
       "    <tr>\n",
       "      <th>15088</th>\n",
       "      <td>2</td>\n",
       "      <td>24.103539</td>\n",
       "      <td>8935</td>\n",
       "      <td>18385.363</td>\n",
       "      <td>-5524.8510</td>\n",
       "      <td>307.27652</td>\n",
       "      <td>True</td>\n",
       "      <td>14063.338</td>\n",
       "      <td>-3812.854</td>\n",
       "      <td>246.6528</td>\n",
       "    </tr>\n",
       "    <tr>\n",
       "      <th>15089</th>\n",
       "      <td>2</td>\n",
       "      <td>24.150829</td>\n",
       "      <td>8937</td>\n",
       "      <td>18663.992</td>\n",
       "      <td>-4494.5503</td>\n",
       "      <td>307.27652</td>\n",
       "      <td>True</td>\n",
       "      <td>14063.338</td>\n",
       "      <td>-3812.854</td>\n",
       "      <td>246.6528</td>\n",
       "    </tr>\n",
       "    <tr>\n",
       "      <th>15090</th>\n",
       "      <td>2</td>\n",
       "      <td>24.302891</td>\n",
       "      <td>8936</td>\n",
       "      <td>18531.840</td>\n",
       "      <td>-5011.6370</td>\n",
       "      <td>307.27652</td>\n",
       "      <td>True</td>\n",
       "      <td>14063.338</td>\n",
       "      <td>-3812.854</td>\n",
       "      <td>246.6528</td>\n",
       "    </tr>\n",
       "    <tr>\n",
       "      <th>15091</th>\n",
       "      <td>2</td>\n",
       "      <td>24.326164</td>\n",
       "      <td>8938</td>\n",
       "      <td>18781.719</td>\n",
       "      <td>-3973.9895</td>\n",
       "      <td>307.27652</td>\n",
       "      <td>True</td>\n",
       "      <td>14063.338</td>\n",
       "      <td>-3812.854</td>\n",
       "      <td>246.6528</td>\n",
       "    </tr>\n",
       "  </tbody>\n",
       "</table>\n",
       "</div>"
      ],
      "text/plain": [
       "       event    hitTime   pmtID      pmt_x      pmt_y      pmt_z  isLarge  \\\n",
       "15087      2  23.950851  317805  18378.736 -5522.8594  600.07214    False   \n",
       "15088      2  24.103539    8935  18385.363 -5524.8510  307.27652     True   \n",
       "15089      2  24.150829    8937  18663.992 -4494.5503  307.27652     True   \n",
       "15090      2  24.302891    8936  18531.840 -5011.6370  307.27652     True   \n",
       "15091      2  24.326164    8938  18781.719 -3973.9895  307.27652     True   \n",
       "\n",
       "               x         y         z  \n",
       "15087  14063.338 -3812.854  246.6528  \n",
       "15088  14063.338 -3812.854  246.6528  \n",
       "15089  14063.338 -3812.854  246.6528  \n",
       "15090  14063.338 -3812.854  246.6528  \n",
       "15091  14063.338 -3812.854  246.6528  "
      ]
     },
     "execution_count": 82,
     "metadata": {},
     "output_type": "execute_result"
    }
   ],
   "source": [
    "test.head()"
   ]
  },
  {
   "cell_type": "code",
   "execution_count": 83,
   "metadata": {},
   "outputs": [],
   "source": [
    "result = []\n",
    "\n",
    "for name, group in test.groupby(\"event\"):\n",
    "    result.append({\n",
    "        \"evtID\" : name, \n",
    "        \"N\": len(group),\n",
    "        \"m_x\": group['pmt_x'].mean(),\n",
    "        \"m_y\": group['pmt_y'].mean(),\n",
    "        \"m_z\": group['pmt_z'].mean(),\n",
    "        \"m_time\" : group['hitTime'].mean() - group['hitTime'].min()\n",
    "    })"
   ]
  },
  {
   "cell_type": "code",
   "execution_count": 84,
   "metadata": {},
   "outputs": [],
   "source": [
    "test_df = pd.DataFrame.from_records(result)\n",
    "test_df = test_df.merge(true_info, on=\"evtID\")"
   ]
  },
  {
   "cell_type": "code",
   "execution_count": 94,
   "metadata": {},
   "outputs": [
    {
     "data": {
      "text/html": [
       "<div>\n",
       "<style>\n",
       "    .dataframe thead tr:only-child th {\n",
       "        text-align: right;\n",
       "    }\n",
       "\n",
       "    .dataframe thead th {\n",
       "        text-align: left;\n",
       "    }\n",
       "\n",
       "    .dataframe tbody tr th {\n",
       "        vertical-align: top;\n",
       "    }\n",
       "</style>\n",
       "<table border=\"1\" class=\"dataframe\">\n",
       "  <thead>\n",
       "    <tr style=\"text-align: right;\">\n",
       "      <th></th>\n",
       "      <th>N</th>\n",
       "      <th>evtID</th>\n",
       "      <th>m_time</th>\n",
       "      <th>m_x</th>\n",
       "      <th>m_y</th>\n",
       "      <th>m_z</th>\n",
       "      <th>E</th>\n",
       "      <th>R</th>\n",
       "    </tr>\n",
       "  </thead>\n",
       "  <tbody>\n",
       "    <tr>\n",
       "      <th>0</th>\n",
       "      <td>11635</td>\n",
       "      <td>2</td>\n",
       "      <td>72.473969</td>\n",
       "      <td>11465.888473</td>\n",
       "      <td>-3298.430170</td>\n",
       "      <td>215.455769</td>\n",
       "      <td>6.823932</td>\n",
       "      <td>14573.132</td>\n",
       "    </tr>\n",
       "    <tr>\n",
       "      <th>1</th>\n",
       "      <td>12948</td>\n",
       "      <td>6</td>\n",
       "      <td>78.344905</td>\n",
       "      <td>1265.835589</td>\n",
       "      <td>-9412.370616</td>\n",
       "      <td>-7289.322666</td>\n",
       "      <td>7.886344</td>\n",
       "      <td>16146.320</td>\n",
       "    </tr>\n",
       "    <tr>\n",
       "      <th>2</th>\n",
       "      <td>10196</td>\n",
       "      <td>8</td>\n",
       "      <td>70.606293</td>\n",
       "      <td>3924.965117</td>\n",
       "      <td>-1605.223731</td>\n",
       "      <td>-5210.235467</td>\n",
       "      <td>6.640760</td>\n",
       "      <td>8583.734</td>\n",
       "    </tr>\n",
       "    <tr>\n",
       "      <th>3</th>\n",
       "      <td>6268</td>\n",
       "      <td>13</td>\n",
       "      <td>77.589890</td>\n",
       "      <td>-1473.141103</td>\n",
       "      <td>8235.507597</td>\n",
       "      <td>8698.244991</td>\n",
       "      <td>3.580564</td>\n",
       "      <td>16082.676</td>\n",
       "    </tr>\n",
       "    <tr>\n",
       "      <th>4</th>\n",
       "      <td>1745</td>\n",
       "      <td>14</td>\n",
       "      <td>77.008743</td>\n",
       "      <td>-1989.257786</td>\n",
       "      <td>1192.279533</td>\n",
       "      <td>-9695.191418</td>\n",
       "      <td>0.835570</td>\n",
       "      <td>12824.286</td>\n",
       "    </tr>\n",
       "  </tbody>\n",
       "</table>\n",
       "</div>"
      ],
      "text/plain": [
       "       N  evtID     m_time           m_x          m_y          m_z         E  \\\n",
       "0  11635      2  72.473969  11465.888473 -3298.430170   215.455769  6.823932   \n",
       "1  12948      6  78.344905   1265.835589 -9412.370616 -7289.322666  7.886344   \n",
       "2  10196      8  70.606293   3924.965117 -1605.223731 -5210.235467  6.640760   \n",
       "3   6268     13  77.589890  -1473.141103  8235.507597  8698.244991  3.580564   \n",
       "4   1745     14  77.008743  -1989.257786  1192.279533 -9695.191418  0.835570   \n",
       "\n",
       "           R  \n",
       "0  14573.132  \n",
       "1  16146.320  \n",
       "2   8583.734  \n",
       "3  16082.676  \n",
       "4  12824.286  "
      ]
     },
     "execution_count": 94,
     "metadata": {},
     "output_type": "execute_result"
    }
   ],
   "source": [
    "test_df.head()"
   ]
  },
  {
   "cell_type": "code",
   "execution_count": 85,
   "metadata": {
    "collapsed": true
   },
   "outputs": [],
   "source": [
    "test_pool = Pool(test_df[[\"N\", \"m_time\", \"m_x\", \"m_y\", \"m_z\"]].values,\n",
    "                test_df[\"E\"].values)"
   ]
  },
  {
   "cell_type": "code",
   "execution_count": 86,
   "metadata": {},
   "outputs": [
    {
     "data": {
      "text/plain": [
       "0.16057506513952272"
      ]
     },
     "execution_count": 86,
     "metadata": {},
     "output_type": "execute_result"
    }
   ],
   "source": [
    "model.score(test_pool, test_df[\"E\"].values)"
   ]
  },
  {
   "cell_type": "code",
   "execution_count": 87,
   "metadata": {},
   "outputs": [
    {
     "data": {
      "text/plain": [
       "<matplotlib.collections.PathCollection at 0x7f3e88e21a90>"
      ]
     },
     "execution_count": 87,
     "metadata": {},
     "output_type": "execute_result"
    },
    {
     "data": {
      "image/png": "[encoded data removed]",
      "text/plain": [
       "<matplotlib.figure.Figure at 0x7f3e88e37ac8>"
      ]
     },
     "metadata": {},
     "output_type": "display_data"
    }
   ],
   "source": [
    "plt.scatter(test_df[\"E\"].values, model.predict(test_pool))"
   ]
  },
  {
   "cell_type": "code",
   "execution_count": null,
   "metadata": {
    "collapsed": true
   },
   "outputs": [],
   "source": []
  },
  {
   "cell_type": "code",
   "execution_count": null,
   "metadata": {
    "collapsed": true
   },
   "outputs": [],
   "source": []
  }
 ],
 "metadata": {
  "anaconda-cloud": {},
  "kernelspec": {
   "display_name": "Python 3",
   "language": "python",
   "name": "python3"
  },
  "language_info": {
   "codemirror_mode": {
    "name": "ipython",
    "version": 3
   },
   "file_extension": ".py",
   "mimetype": "text/x-python",
   "name": "python",
   "nbconvert_exporter": "python",
   "pygments_lexer": "ipython3",
   "version": "3.6.2"
  }
 },
 "nbformat": 4,
 "nbformat_minor": 1
}
