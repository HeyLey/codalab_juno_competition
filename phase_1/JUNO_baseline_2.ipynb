{
 "cells": [
  {
   "cell_type": "code",
   "execution_count": 1,
   "metadata": {},
   "outputs": [],
   "source": [
    "import numpy as np\n",
    "import pandas as pd\n",
    "import itertools\n",
    "from sklearn.neighbors import radius_neighbors_graph"
   ]
  },
  {
   "cell_type": "code",
   "execution_count": 2,
   "metadata": {},
   "outputs": [],
   "source": [
    "lpmt_pos = pd.read_csv('./data/phase_1/pmts_pos.csv')\n",
    "train_hits = pd.read_hdf('./data/phase_1/lpmt_hits.h5', mode='r') \n",
    "true_info = pd.read_csv('./data/phase_1/true_info.csv') "
   ]
  },
  {
   "cell_type": "code",
   "execution_count": 3,
   "metadata": {},
   "outputs": [],
   "source": [
    "message_size = 8\n",
    "node_features_size = 6\n",
    "node_state_size = 16"
   ]
  },
  {
   "cell_type": "code",
   "execution_count": 4,
   "metadata": {},
   "outputs": [],
   "source": [
    "train = train_hits\n",
    "#train = train_hits.merge(lpmt_pos, how='left', left_on='pmtID', right_on='pmt_id')\n",
    "#del train['pmt_id']"
   ]
  },
  {
   "cell_type": "code",
   "execution_count": 5,
   "metadata": {},
   "outputs": [
    {
     "data": {
      "text/html": [
       "<div>\n",
       "<style scoped>\n",
       "    .dataframe tbody tr th:only-of-type {\n",
       "        vertical-align: middle;\n",
       "    }\n",
       "\n",
       "    .dataframe tbody tr th {\n",
       "        vertical-align: top;\n",
       "    }\n",
       "\n",
       "    .dataframe thead th {\n",
       "        text-align: right;\n",
       "    }\n",
       "</style>\n",
       "<table border=\"1\" class=\"dataframe\">\n",
       "  <thead>\n",
       "    <tr style=\"text-align: right;\">\n",
       "      <th></th>\n",
       "      <th>E</th>\n",
       "      <th>R</th>\n",
       "      <th>evtID</th>\n",
       "      <th>x</th>\n",
       "      <th>y</th>\n",
       "      <th>z</th>\n",
       "    </tr>\n",
       "  </thead>\n",
       "  <tbody>\n",
       "    <tr>\n",
       "      <th>0</th>\n",
       "      <td>4.747791</td>\n",
       "      <td>14610.378</td>\n",
       "      <td>0</td>\n",
       "      <td>8290.7790</td>\n",
       "      <td>11995.6180</td>\n",
       "      <td>911.74286</td>\n",
       "    </tr>\n",
       "    <tr>\n",
       "      <th>1</th>\n",
       "      <td>3.919721</td>\n",
       "      <td>14630.141</td>\n",
       "      <td>1</td>\n",
       "      <td>11397.6320</td>\n",
       "      <td>5407.4497</td>\n",
       "      <td>-7409.08200</td>\n",
       "    </tr>\n",
       "    <tr>\n",
       "      <th>2</th>\n",
       "      <td>6.823932</td>\n",
       "      <td>14573.132</td>\n",
       "      <td>2</td>\n",
       "      <td>14063.3380</td>\n",
       "      <td>-3812.8540</td>\n",
       "      <td>246.65280</td>\n",
       "    </tr>\n",
       "    <tr>\n",
       "      <th>3</th>\n",
       "      <td>3.765940</td>\n",
       "      <td>16820.080</td>\n",
       "      <td>3</td>\n",
       "      <td>-2377.9307</td>\n",
       "      <td>-16317.7020</td>\n",
       "      <td>3315.59030</td>\n",
       "    </tr>\n",
       "    <tr>\n",
       "      <th>4</th>\n",
       "      <td>3.217473</td>\n",
       "      <td>13026.938</td>\n",
       "      <td>4</td>\n",
       "      <td>-8617.1170</td>\n",
       "      <td>868.5116</td>\n",
       "      <td>9730.98600</td>\n",
       "    </tr>\n",
       "  </tbody>\n",
       "</table>\n",
       "</div>"
      ],
      "text/plain": [
       "          E          R  evtID           x           y           z\n",
       "0  4.747791  14610.378      0   8290.7790  11995.6180   911.74286\n",
       "1  3.919721  14630.141      1  11397.6320   5407.4497 -7409.08200\n",
       "2  6.823932  14573.132      2  14063.3380  -3812.8540   246.65280\n",
       "3  3.765940  16820.080      3  -2377.9307 -16317.7020  3315.59030\n",
       "4  3.217473  13026.938      4  -8617.1170    868.5116  9730.98600"
      ]
     },
     "execution_count": 5,
     "metadata": {},
     "output_type": "execute_result"
    }
   ],
   "source": [
    "true_info.head()"
   ]
  },
  {
   "cell_type": "code",
   "execution_count": 6,
   "metadata": {},
   "outputs": [
    {
     "data": {
      "text/html": [
       "<div>\n",
       "<style scoped>\n",
       "    .dataframe tbody tr th:only-of-type {\n",
       "        vertical-align: middle;\n",
       "    }\n",
       "\n",
       "    .dataframe tbody tr th {\n",
       "        vertical-align: top;\n",
       "    }\n",
       "\n",
       "    .dataframe thead th {\n",
       "        text-align: right;\n",
       "    }\n",
       "</style>\n",
       "<table border=\"1\" class=\"dataframe\">\n",
       "  <thead>\n",
       "    <tr style=\"text-align: right;\">\n",
       "      <th></th>\n",
       "      <th>event</th>\n",
       "      <th>hitTime</th>\n",
       "      <th>pmtID</th>\n",
       "    </tr>\n",
       "  </thead>\n",
       "  <tbody>\n",
       "    <tr>\n",
       "      <th>0</th>\n",
       "      <td>0</td>\n",
       "      <td>249.992615</td>\n",
       "      <td>14175</td>\n",
       "    </tr>\n",
       "    <tr>\n",
       "      <th>1</th>\n",
       "      <td>0</td>\n",
       "      <td>40.010311</td>\n",
       "      <td>17319</td>\n",
       "    </tr>\n",
       "    <tr>\n",
       "      <th>2</th>\n",
       "      <td>0</td>\n",
       "      <td>162.123199</td>\n",
       "      <td>16882</td>\n",
       "    </tr>\n",
       "    <tr>\n",
       "      <th>3</th>\n",
       "      <td>0</td>\n",
       "      <td>51.875614</td>\n",
       "      <td>14951</td>\n",
       "    </tr>\n",
       "    <tr>\n",
       "      <th>4</th>\n",
       "      <td>0</td>\n",
       "      <td>79.817497</td>\n",
       "      <td>10947</td>\n",
       "    </tr>\n",
       "  </tbody>\n",
       "</table>\n",
       "</div>"
      ],
      "text/plain": [
       "   event     hitTime  pmtID\n",
       "0      0  249.992615  14175\n",
       "1      0   40.010311  17319\n",
       "2      0  162.123199  16882\n",
       "3      0   51.875614  14951\n",
       "4      0   79.817497  10947"
      ]
     },
     "execution_count": 6,
     "metadata": {},
     "output_type": "execute_result"
    }
   ],
   "source": [
    "train.head() "
   ]
  },
  {
   "cell_type": "code",
   "execution_count": 7,
   "metadata": {},
   "outputs": [],
   "source": [
    "hitTime_mean = np.mean(train['hitTime']) \n",
    "hitTime_std = np.std(train['hitTime'])\n",
    "train['hitTime'] = (train['hitTime'] - hitTime_mean) / hitTime_std"
   ]
  },
  {
   "cell_type": "code",
   "execution_count": 8,
   "metadata": {},
   "outputs": [],
   "source": [
    "lpmt_pos = lpmt_pos[lpmt_pos['pmt_id'] < 300000]"
   ]
  },
  {
   "cell_type": "code",
   "execution_count": 9,
   "metadata": {},
   "outputs": [],
   "source": [
    "pos = lpmt_pos[[\"pmt_x\", \"pmt_y\", \"pmt_z\"]].values"
   ]
  },
  {
   "cell_type": "code",
   "execution_count": 10,
   "metadata": {},
   "outputs": [
    {
     "data": {
      "text/plain": [
       "17739"
      ]
     },
     "execution_count": 10,
     "metadata": {},
     "output_type": "execute_result"
    }
   ],
   "source": [
    "pos.shape[0]"
   ]
  },
  {
   "cell_type": "code",
   "execution_count": 11,
   "metadata": {},
   "outputs": [],
   "source": [
    "adjacency_matrix = radius_neighbors_graph(X=pos, \n",
    "                radius=1000, mode='connectivity')\n"
   ]
  },
  {
   "cell_type": "code",
   "execution_count": 12,
   "metadata": {},
   "outputs": [],
   "source": [
    "from numpy.linalg import norm\n",
    "from numpy import dot"
   ]
  },
  {
   "cell_type": "code",
   "execution_count": 13,
   "metadata": {},
   "outputs": [],
   "source": [
    "def cos(a, b):\n",
    "     return dot(a,b) / norm(a) / norm(b)"
   ]
  },
  {
   "cell_type": "code",
   "execution_count": 14,
   "metadata": {},
   "outputs": [],
   "source": [
    "def zero_padding(l):\n",
    "    return np.array(list(itertools.zip_longest(*l, fillvalue=0))).T"
   ]
  },
  {
   "cell_type": "code",
   "execution_count": 15,
   "metadata": {},
   "outputs": [],
   "source": [
    "E_mean = np.mean(true_info.E)\n",
    "E_std = np.std(true_info.E)"
   ]
  },
  {
   "cell_type": "code",
   "execution_count": 16,
   "metadata": {},
   "outputs": [],
   "source": [
    "R_mean = np.mean(true_info.R)\n",
    "R_std = np.std(true_info.R)"
   ]
  },
  {
   "cell_type": "code",
   "execution_count": 17,
   "metadata": {},
   "outputs": [],
   "source": [
    "def build_graph():\n",
    "    in_pmt_ids_val = []\n",
    "    edges_features_val = []\n",
    "    out_pmt_ids_val = []\n",
    "    mask_val = []\n",
    "\n",
    "    for row in range(pos.shape[0]):\n",
    "        rows, cols = np.where(adjacency_matrix[row].toarray() > 0)\n",
    "    \n",
    "        row_out_pmt = []\n",
    "        row_mask = []\n",
    "        \n",
    "        for col in cols:\n",
    "            x, y, z = pos[row] - pos[col]\n",
    "            c = ((cos(pos[row], pos[col]) - 0.997) / 0.002)\n",
    "                \n",
    "            in_pmt_ids_val.append(row)                \n",
    "            edges_features_val.append([x, y, z, c])            \n",
    "            row_out_pmt.append(col)\n",
    "            row_mask.append(1)\n",
    "    \n",
    "        out_pmt_ids_val.append(row_out_pmt)\n",
    "        mask_val.append(row_mask)    \n",
    "    \n",
    "    return (in_pmt_ids_val,\n",
    "            edges_features_val,    \n",
    "            zero_padding(out_pmt_ids_val),\n",
    "            zero_padding(mask_val))"
   ]
  },
  {
   "cell_type": "code",
   "execution_count": 18,
   "metadata": {},
   "outputs": [],
   "source": [
    "in_pmt_ids_val, edge_features_val, out_pmt_ids_val, mask_val = build_graph()"
   ]
  },
  {
   "cell_type": "code",
   "execution_count": 19,
   "metadata": {},
   "outputs": [],
   "source": [
    "import torch\n",
    "import torch.nn as nn\n",
    "import torch.optim as optim\n",
    "from tqdm import tqdm_notebook as tqdm\n",
    "import torch.nn.functional as F"
   ]
  },
  {
   "cell_type": "code",
   "execution_count": 20,
   "metadata": {},
   "outputs": [],
   "source": [
    "device = torch.device(\"cuda\" if torch.cuda.is_available() else \"cpu\")"
   ]
  },
  {
   "cell_type": "code",
   "execution_count": 21,
   "metadata": {},
   "outputs": [
    {
     "data": {
      "text/plain": [
       "device(type='cuda')"
      ]
     },
     "execution_count": 21,
     "metadata": {},
     "output_type": "execute_result"
    }
   ],
   "source": [
    "device"
   ]
  },
  {
   "cell_type": "code",
   "execution_count": 22,
   "metadata": {},
   "outputs": [
    {
     "data": {
      "text/plain": [
       "16000"
      ]
     },
     "execution_count": 22,
     "metadata": {},
     "output_type": "execute_result"
    }
   ],
   "source": [
    "len(train.event.unique())"
   ]
  },
  {
   "cell_type": "code",
   "execution_count": 23,
   "metadata": {},
   "outputs": [
    {
     "data": {
      "application/vnd.jupyter.widget-view+json": {
       "model_id": "78750cb25a6c4745a1fa23d2294e049f",
       "version_major": 2,
       "version_minor": 0
      },
      "text/plain": [
       "HBox(children=(IntProgress(value=0, max=16000), HTML(value='')))"
      ]
     },
     "metadata": {},
     "output_type": "display_data"
    },
    {
     "name": "stdout",
     "output_type": "stream",
     "text": [
      "\n"
     ]
    }
   ],
   "source": [
    "data_map = {}\n",
    "\n",
    "for event_id in tqdm(train.event.unique()):    \n",
    "    event = train[train['event'] == event_id].copy()\n",
    "    data = lpmt_pos.copy()    \n",
    "    event['pmtID'] = event['pmtID'].map({v : i for i, v in enumerate(lpmt_pos['pmt_id'])})\n",
    "    data['pmt_id'] = data['pmt_id'].map({v : i for i, v in enumerate(lpmt_pos['pmt_id'])})\n",
    "    \n",
    "    data[\"hit_count\"] = data.pmt_id.map(event.groupby('pmtID').hitTime.count()).fillna(0)\n",
    "    data[\"mean_hit_time\"] = data.pmt_id.map(event.groupby('pmtID').hitTime.mean()).fillna(0)\n",
    "    data[\"min_hit_time\"] = data.pmt_id.map(event.groupby('pmtID').hitTime.min()).fillna(0)\n",
    "    data['pmt_x'] /= 10000.0\n",
    "    data['pmt_y'] /= 10000.0\n",
    "    data['pmt_z'] /= 10000.0\n",
    "    \n",
    "    X_val = data[['hit_count', 'mean_hit_time', 'min_hit_time', 'pmt_x', 'pmt_y', 'pmt_z']].values \n",
    "    E_val = true_info[true_info.evtID == event_id].E.values \n",
    "    R_val = true_info[true_info.evtID == event_id].R.values     \n",
    "    data_map[event_id] = (X_val, (E_val - E_mean) / E_std, (R_val - R_mean) / R_std)"
   ]
  },
  {
   "cell_type": "code",
   "execution_count": 24,
   "metadata": {},
   "outputs": [],
   "source": [
    "class InitialNet(nn.Module):\n",
    "    def __init__(self):\n",
    "        super(InitialNet, self).__init__()        \n",
    "        self.fc1 = nn.Linear(node_features_size, 32)\n",
    "        self.fc2 = nn.Linear(32, node_state_size)            \n",
    "\n",
    "\n",
    "    def forward(self, x):        \n",
    "        x = F.relu(self.fc1(x))\n",
    "        x = self.fc2(x)        \n",
    "        return x\n",
    "    \n",
    "class MessageNet(nn.Module):\n",
    "    def __init__(self):\n",
    "        super(MessageNet, self).__init__()        \n",
    "        self.fc1 = nn.Linear(node_state_size, 32)\n",
    "        self.fc2 = nn.Linear(4, 32)\n",
    "        self.fc3 = nn.Linear(32, message_size)            \n",
    "\n",
    "\n",
    "    def forward(self, prev_state, edge_features):        \n",
    "        x = F.relu(self.fc1(prev_state) + self.fc2(edge_features))\n",
    "        x = self.fc3(x)        \n",
    "        return x\n",
    "    \n",
    "\n",
    "class UpdateNet(nn.Module):\n",
    "    def __init__(self):\n",
    "        super(UpdateNet, self).__init__()        \n",
    "        self.fc1 = nn.Linear(message_size, 32)\n",
    "        self.fc2 = nn.Linear(node_features_size, 32)\n",
    "        self.fc3 = nn.Linear(32, node_state_size)            \n",
    "\n",
    "\n",
    "    def forward(self, measage, node_features):        \n",
    "        x = F.relu(self.fc1(measage) + self.fc2(node_features))\n",
    "        x = self.fc3(x)        \n",
    "        return x\n",
    "    \n",
    "class PredictNet(nn.Module):\n",
    "    def __init__(self):\n",
    "        super(PredictNet, self).__init__()        \n",
    "        self.fc1 = nn.Linear(node_state_size, 32)\n",
    "        self.fc2 = nn.Linear(32, 1)\n",
    "\n",
    "\n",
    "    def forward(self, x):        \n",
    "        x = F.relu(self.fc1(x))\n",
    "        x = self.fc2(x)        \n",
    "        return x\n",
    "\n",
    "class MainNet(nn.Module):\n",
    "    def __init__(self):\n",
    "        super(MainNet, self).__init__()      \n",
    "        self.initial_net = InitialNet()\n",
    "        self.message_net = MessageNet()\n",
    "        self.update_net = UpdateNet()\n",
    "        self.predict_net = PredictNet().to(device)\n",
    "        "
   ]
  },
  {
   "cell_type": "code",
   "execution_count": 25,
   "metadata": {},
   "outputs": [],
   "source": [
    "def update_state(state):\n",
    "    in_state = torch.index_select(state, 0, in_hit_ids)\n",
    "    messages = main_net.message_net(in_state, edge_features)\n",
    "    index = torch.flatten(out_hit_ids)\n",
    "    \n",
    "    h = torch.index_select(messages, 0, index) \n",
    "    h = h.view(out_hit_ids.shape + (message_size,))\n",
    "    h = (h * mask.unsqueeze(2)).sum(1) / (mask.unsqueeze(2).sum(1) + 0.00001)\n",
    "    \n",
    "    state = main_net.update_net(h, node_featues)\n",
    "    return state"
   ]
  },
  {
   "cell_type": "code",
   "execution_count": 26,
   "metadata": {},
   "outputs": [],
   "source": [
    "main_net = MainNet().to(device)\n",
    "\n",
    "optimizer = optim.Adam(main_net.parameters(), lr=0.001)"
   ]
  },
  {
   "cell_type": "code",
   "execution_count": null,
   "metadata": {},
   "outputs": [
    {
     "name": "stdout",
     "output_type": "stream",
     "text": [
      "1.6520596517198738\n",
      "0.4855975015458321\n",
      "0.15371270721327857\n",
      "0.12993779725287008\n",
      "0.11228938610230728\n",
      "0.10669194611173491\n",
      "0.10252321367907158\n",
      "0.09814336514771563\n",
      "0.0973552385445314\n",
      "0.09609802640735476\n",
      "0.09378571673489901\n",
      "0.08881607710150116\n",
      "0.09128932013720908\n",
      "0.08859763970182914\n"
     ]
    }
   ],
   "source": [
    "best_eval = 1000000\n",
    "\n",
    "in_hit_ids = torch.tensor(in_pmt_ids_val).to(device)\n",
    "edge_features = torch.tensor(edge_features_val, dtype=torch.float32).to(device)\n",
    "out_hit_ids = torch.tensor(out_pmt_ids_val).to(device)\n",
    "mask = torch.tensor(mask_val, dtype=torch.float32).to(device)\n",
    "\n",
    "for epoch in range(20):\n",
    "    E_losses = []    \n",
    "    E_val_losses = []    \n",
    "    \n",
    "    for event_id in train.event.unique():\n",
    "        X_val, E_val, R_val = data_map[event_id]\n",
    "        node_featues = torch.tensor(X_val, dtype=torch.float32).to(device)\n",
    "        E = torch.tensor(E_val, dtype=torch.float32).to(device)\n",
    "        R = torch.tensor(R_val, dtype=torch.float32).to(device)\n",
    "                    \n",
    "        optimizer.zero_grad()   \n",
    "        \n",
    "        state = main_net.initial_net(node_featues)\n",
    "        \n",
    "        state1 = update_state(state)\n",
    "    \n",
    "        #e, _ = state1.max(0)\n",
    "        e = state1.mean(0)\n",
    "        \n",
    "        e = e.unsqueeze(0)\n",
    "    \n",
    "        E_pred = main_net.predict_net(e)         \n",
    "    \n",
    "        loss = ((E_pred - E) ** 2).mean()           \n",
    "        \n",
    "        if event_id < 15000:        \n",
    "            loss.backward()        \n",
    "            optimizer.step()            \n",
    "            E_losses.append(loss.item() * E_std ** 2)                \n",
    "        else:            \n",
    "            E_val_losses.append(loss.item() * E_std ** 2)            \n",
    "     \n",
    "    print(np.mean(E_losses))\n",
    "    mean_loss = np.mean(E_val_losses)\n",
    "    print(mean_loss)\n",
    "    if best_eval > mean_loss:\n",
    "        best_eval = mean_loss\n",
    "        torch.save(main_net.state_dict(), \"best_E_model.pt\")\n",
    "\n",
    "    #print(np.mean(E_losses), np.mean(R_losses))\n",
    "    #print(np.mean(E_val_losses), np.mean(R_val_losses))\n",
    "    #print(np.mean(E_val_losses) * 100 + np.mean(R_val_losses) / 100000)     "
   ]
  },
  {
   "cell_type": "code",
   "execution_count": null,
   "metadata": {},
   "outputs": [],
   "source": [
    "main_net = MainNet().to(device)\n",
    "optimizer = optim.Adam(main_net.parameters(), lr=0.001)"
   ]
  },
  {
   "cell_type": "code",
   "execution_count": null,
   "metadata": {},
   "outputs": [],
   "source": [
    "best_eval = 1000000\n",
    "\n",
    "in_hit_ids = torch.tensor(in_pmt_ids_val).to(device)\n",
    "edge_features = torch.tensor(edge_features_val, dtype=torch.float32).to(device)\n",
    "out_hit_ids = torch.tensor(out_pmt_ids_val).to(device)\n",
    "mask = torch.tensor(mask_val, dtype=torch.float32).to(device)\n",
    "\n",
    "for epoch in range(20):\n",
    "    R_losses = []    \n",
    "    R_val_losses = []    \n",
    "    \n",
    "    for event_id in train.event.unique():\n",
    "        X_val, E_val, R_val = data_map[event_id]\n",
    "        node_featues = torch.tensor(X_val, dtype=torch.float32).to(device)\n",
    "        E = torch.tensor(E_val, dtype=torch.float32).to(device)\n",
    "        R = torch.tensor(R_val, dtype=torch.float32).to(device)                \n",
    "\n",
    "        optimizer.zero_grad()   \n",
    "        \n",
    "        state = main_net.initial_net(node_featues)\n",
    "        \n",
    "        state1 = update_state(state)\n",
    "    \n",
    "        #e, _ = state1.max(0)\n",
    "        e = state1.mean(0)\n",
    "        \n",
    "        e = e.unsqueeze(0)\n",
    "    \n",
    "        R_pred = main_net.predict_net(e)         \n",
    "    \n",
    "        loss = ((R_pred - R) ** 2).mean()           \n",
    "        \n",
    "        if event_id < 15000:        \n",
    "            loss.backward()        \n",
    "            optimizer.step()            \n",
    "            R_losses.append(loss.item() * R_std ** 2)                \n",
    "        else:            \n",
    "            R_val_losses.append(loss.item() * R_std ** 2)            \n",
    "     \n",
    "    print(np.mean(E_losses))\n",
    "    mean_loss = np.mean(E_val_losses)\n",
    "    print(mean_loss)\n",
    "    if best_eval > mean_loss:\n",
    "        best_eval = mean_loss\n",
    "        torch.save(main_net.state_dict(), \"best_R_model.pt\")"
   ]
  },
  {
   "cell_type": "code",
   "execution_count": null,
   "metadata": {},
   "outputs": [],
   "source": []
  }
 ],
 "metadata": {
  "kernelspec": {
   "display_name": "Python 3",
   "language": "python",
   "name": "python3"
  },
  "language_info": {
   "codemirror_mode": {
    "name": "ipython",
    "version": 3
   },
   "file_extension": ".py",
   "mimetype": "text/x-python",
   "name": "python",
   "nbconvert_exporter": "python",
   "pygments_lexer": "ipython3",
   "version": "3.5.6"
  }
 },
 "nbformat": 4,
 "nbformat_minor": 2
}
